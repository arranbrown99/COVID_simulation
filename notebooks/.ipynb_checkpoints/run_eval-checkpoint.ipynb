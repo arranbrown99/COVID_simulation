{
 "cells": [
  {
   "cell_type": "code",
   "execution_count": 1,
   "metadata": {},
   "outputs": [],
   "source": [
    "import numpy as np"
   ]
  },
  {
   "cell_type": "markdown",
   "metadata": {},
   "source": [
    "## Deterministic"
   ]
  },
  {
   "cell_type": "code",
   "execution_count": null,
   "metadata": {},
   "outputs": [],
   "source": []
  },
  {
   "cell_type": "markdown",
   "metadata": {},
   "source": [
    "## Random"
   ]
  },
  {
   "cell_type": "code",
   "execution_count": null,
   "metadata": {},
   "outputs": [],
   "source": []
  },
  {
   "cell_type": "markdown",
   "metadata": {},
   "source": [
    "## Linear Policy"
   ]
  },
  {
   "cell_type": "code",
   "execution_count": null,
   "metadata": {},
   "outputs": [],
   "source": []
  },
  {
   "cell_type": "markdown",
   "metadata": {},
   "source": [
    "## Tabular Policy"
   ]
  },
  {
   "cell_type": "code",
   "execution_count": null,
   "metadata": {},
   "outputs": [],
   "source": []
  },
  {
   "cell_type": "markdown",
   "metadata": {},
   "source": [
    "## Q learning"
   ]
  },
  {
   "cell_type": "code",
   "execution_count": null,
   "metadata": {},
   "outputs": [],
   "source": []
  },
  {
   "cell_type": "markdown",
   "metadata": {},
   "source": [
    "## Q learning Neural Network"
   ]
  },
  {
   "cell_type": "code",
   "execution_count": 2,
   "metadata": {},
   "outputs": [],
   "source": [
    "from q_learning_nn.nn_function_approximator import NNFunctionApproximatorJointKeras, init_networks, load_trained_network\n",
    "from q_learning_nn.memory import ReplayMemory, Transition\n",
    "from q_learning_nn.agent import Agent\n",
    "from q_learning_nn.strategy import Strategy\n",
    "from q_learning_nn.run import qlearning_nn\n",
    "import os\n",
    "import virl\n",
    "\n",
    "policy_trained_using_problem_id_zero = \"policy_network2.h5\"\n",
    "policy_network_new, target_network_new = load_trained_network(policy_trained_using_problem_id_zero)"
   ]
  },
  {
   "cell_type": "code",
   "execution_count": 4,
   "metadata": {},
   "outputs": [
    {
     "name": "stdout",
     "output_type": "stream",
     "text": [
      "Evaluation reward -0.8667918869030464\n",
      "Evaluation reward -0.6291999801501303\n",
      "Evaluation reward -0.6293770338129265\n",
      "Evaluation reward -0.6317200225475976\n",
      "Evaluation reward -0.7455220015846955\n",
      "Evaluation reward -0.9845347834987108\n",
      "Evaluation reward -1.0627178859676536\n",
      "Evaluation reward -1.1019185677030323\n",
      "Evaluation reward -1.1601219497361983\n",
      "Evaluation reward -1.1993909909903095\n"
     ]
    }
   ],
   "source": [
    "for i in range(10):\n",
    "    agent = Agent(virl.Epidemic(stochastic=False, noisy=False, problem_id=i), learning_rate=0.0)\n",
    "    rewards = qlearning_nn(\n",
    "        agent=agent, policy_network=policy_network_new, target_network=target_network_new, num_episodes=1\n",
    "    )"
   ]
  },
  {
   "cell_type": "code",
   "execution_count": null,
   "metadata": {},
   "outputs": [],
   "source": []
  }
 ],
 "metadata": {
  "kernelspec": {
   "display_name": "Python 3",
   "language": "python",
   "name": "python3"
  },
  "language_info": {
   "codemirror_mode": {
    "name": "ipython",
    "version": 3
   },
   "file_extension": ".py",
   "mimetype": "text/x-python",
   "name": "python",
   "nbconvert_exporter": "python",
   "pygments_lexer": "ipython3",
   "version": "3.7.6"
  }
 },
 "nbformat": 4,
 "nbformat_minor": 2
}
