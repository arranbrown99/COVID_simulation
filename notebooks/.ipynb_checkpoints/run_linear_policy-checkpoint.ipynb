{
 "cells": [
  {
   "cell_type": "code",
   "execution_count": 1,
   "metadata": {},
   "outputs": [
    {
     "data": {
      "text/html": [
       "<style>.container { width:100% !important; }</style>"
      ],
      "text/plain": [
       "<IPython.core.display.HTML object>"
      ]
     },
     "metadata": {},
     "output_type": "display_data"
    }
   ],
   "source": [
    "# use full window width\n",
    "from IPython.core.display import display, HTML\n",
    "display(HTML(\"<style>.container { width:100% !important; }</style>\"))\n",
    "\n",
    "import os\n",
    "import numpy as np\n",
    "os.chdir('..')\n",
    "import virl\n",
    "from matplotlib import pyplot as plt"
   ]
  },
  {
   "cell_type": "code",
   "execution_count": 2,
   "metadata": {},
   "outputs": [],
   "source": [
    "import pandas as pd\n",
    "#import display, HTML\n",
    "from IPython import display\n",
    "\n",
    "\n",
    "def smooth_plot(all_rewards, smoothed_rewards,title): \n",
    "    plt.figure(2, figsize=(12, 6))\n",
    "    plt.clf()\n",
    "    plt.title(title)\n",
    "    plt.xlabel(\"Epsiode\") \n",
    "    plt.ylabel(\"Total Reward\")\n",
    "    plt.plot(all_rewards, '--', alpha=0.5) \n",
    "    plt.plot(smoothed_rewards) \n",
    "    plt.legend([\"Rewards\", \"Rewards (Smoothed)\"]) \n",
    "    plt.pause(0.0001)\n",
    "   # display.clear_output(wait=True)"
   ]
  },
  {
   "cell_type": "code",
   "execution_count": 3,
   "metadata": {},
   "outputs": [],
   "source": [
    "# Let's import basic tools for defining the function and doing the gradient-based learning\n",
    "import sklearn.pipeline\n",
    "import sklearn.preprocessing\n",
    "#from sklearn.preprocessing import PolynomialFeatures # you can try with polynomial basis if you want (It is difficult!)\n",
    "from sklearn.linear_model import SGDRegressor # this defines the SGD function\n",
    "from sklearn.kernel_approximation import RBFSampler # this is the RBF function transformation method\n",
    "import pandas as pd\n",
    "#import display, HTML\n",
    "from IPython import display\n",
    "\n",
    "\n",
    "def smooth_plot(all_rewards, smoothed_rewards,title): \n",
    "    plt.figure(2, figsize=(12, 6))\n",
    "    plt.clf()\n",
    "    plt.title(title)\n",
    "    plt.xlabel(\"Epsiode\") \n",
    "    plt.ylabel(\"Total Reward\")\n",
    "    plt.plot(all_rewards, '--', alpha=0.5) \n",
    "    plt.plot(smoothed_rewards) \n",
    "    plt.legend([\"Rewards\", \"Rewards (Smoothed)\"]) \n",
    "    plt.pause(0.0001)\n",
    "   # display.clear_output(wait=True)"
   ]
  },
  {
   "cell_type": "code",
   "execution_count": 4,
   "metadata": {},
   "outputs": [],
   "source": [
    "from LinearAprxAgent import LinearAprxAgent"
   ]
  },
  {
   "cell_type": "markdown",
   "metadata": {},
   "source": [
    "### Training"
   ]
  },
  {
   "cell_type": "code",
   "execution_count": null,
   "metadata": {
    "scrolled": true
   },
   "outputs": [],
   "source": [
    "# from plot_helper import plot\n",
    "# print()\n",
    "# env = virl.Epidemic(stochastic=False, noisy=False,problem_id=0)\n",
    "# agent = LinearAprxAgent(env)\n",
    "\n",
    "\n",
    "# #title = \"Train: problem id \" + str(i) + \" \"\n",
    "\n",
    "# states,all_rewards, all_total_rewards,func_approximator, state_transformed, q_value = agent.train()\n",
    "# intercept = func_approximator.intercept_\n",
    "# coeff = func_approximator.coef_\n",
    "\n",
    "# #plot(states,agent, all_total_rewards, all_rewards,\"title\")\n",
    "# agent = LinearAprxAgent(env)\n",
    "# states,all_rewards, all_total_rewards = agent.evaluate(intercept,coeff, state_transformed, q_value)\n",
    "# plot(states,agent, all_total_rewards, all_rewards,\"title\")\n",
    "# #func_approximator, state_transformed, q_value input to evaluate\n",
    "\n",
    "\n",
    "\n",
    "\n"
   ]
  },
  {
   "cell_type": "code",
   "execution_count": null,
   "metadata": {},
   "outputs": [],
   "source": [
    "from plot_helper import plot"
   ]
  },
  {
   "cell_type": "code",
   "execution_count": null,
   "metadata": {
    "scrolled": true
   },
   "outputs": [
    {
     "name": "stdout",
     "output_type": "stream",
     "text": [
      "Decrease Factor: 0.004\n"
     ]
    }
   ],
   "source": [
    "#train on each on problem id\n",
    "for i in range(0,10):\n",
    "    env = virl.Epidemic(stochastic=False, noisy=False,problem_id=i)\n",
    "    agent = LinearAprxAgent(env)\n",
    "\n",
    "    title = \"Train: problem id \" + str(i) + \" \"\n",
    "    print(title)\n",
    "    \n",
    "    states,all_rewards, all_total_rewards,func_approximator, state_transformed, q_value = agent.train()\n",
    "    intercept = func_approximator.intercept_\n",
    "    coeff = func_approximator.coef_\n",
    "\n",
    "    #save for evaluation\n",
    "    np.savetxt(\"linear_aprx_output/interceptP\" + i + \".csv\", intercept, delimiter=\",\")\n",
    "    np.savetxt(\"linear_aprx_output/coeffP\" + i + \".csv\", coeff, delimiter=\",\")\n",
    "    np.savetxt(\"linear_aprx_output/state_transformedP\" + i + \".csv\", state_transformed, delimiter=\",\")\n",
    "    np.savetxt(\"linear_aprx_output/q_valueP\" + i + \".csv\", q_value, delimiter=\",\")"
   ]
  },
  {
   "cell_type": "code",
   "execution_count": null,
   "metadata": {},
   "outputs": [],
   "source": [
    "stochastic_noisy = {0:virl.Epidemic(stochastic=False, noisy=False),1:virl.Epidemic(stochastic=True, noisy=False),2:virl.Epidemic(stochastic=False, noisy=True),3:virl.Epidemic(stochastic=True, noisy=True)}\n",
    "stochastic_noisy_print = {0:\"stochastic=False, noisy=False\",1:\"stochastic=True, noisy=False\",2:\"stochastic=False, noisy=True\",3:\"stochastic=True, noisy=True\"}\n",
    "\n",
    "for i in range(0,4):\n",
    "    \n",
    "    env = stochastic_noisy[i]\n",
    "    print(stochastic_noisy_print[i])\n",
    "    agent = LinearAprxAgent(env)\n",
    "    \n",
    "    states,all_rewards, all_total_rewards,func_approximator, state_transformed, q_value = agent.train()\n",
    "    intercept = func_approximator.intercept_\n",
    "    coeff = func_approximator.coef_\n",
    "\n",
    "    #save for evaluation\n",
    "    np.savetxt(\"linear_aprx_output/interceptS\" + i + \".csv\", intercept, delimiter=\",\")\n",
    "    np.savetxt(\"linear_aprx_output/coeffS\" + i + \".csv\", coeff, delimiter=\",\")\n",
    "    np.savetxt(\"linear_aprx_output/state_transformedS\" + i + \".csv\", state_transformed, delimiter=\",\")\n",
    "    np.savetxt(\"linear_aprx_output/q_valueS\" + i + \".csv\", q_value, delimiter=\",\")\n",
    "\n"
   ]
  },
  {
   "cell_type": "code",
   "execution_count": null,
   "metadata": {},
   "outputs": [],
   "source": [
    "total_reward_sd = np.std(all_total_rewards)\n",
    "total_reward_mean = np.mean(all_total_rewards)\n",
    "reward_sd = np.std(all_rewards)\n",
    "reward_mean = np.mean(all_rewards)\n",
    "\n",
    "print(\"Total reward standard deviation = \" + str(total_reward_sd))\n",
    "print(\"Total reward mean = \" + str(total_reward_mean))\n",
    "print(\"Reward standard deviation = \" + str(reward_sd))\n",
    "print(\"Rotal reward mean = \" + str(reward_mean))"
   ]
  },
  {
   "cell_type": "code",
   "execution_count": null,
   "metadata": {},
   "outputs": [],
   "source": [
    "stochastic_noisy_print = {0:\"stochastic=False, noisy=False\",1:\"stochastic=True, noisy=False\",2:\"stochastic=False, noisy=True\",3:\"stochastic=True, noisy=True\"}\n",
    "title = \"Train: \" + stochastic_noisy_print[0]\n",
    "plot(states,agent, all_total_rewards, all_rewards,title)"
   ]
  },
  {
   "cell_type": "code",
   "execution_count": null,
   "metadata": {},
   "outputs": [],
   "source": []
  }
 ],
 "metadata": {
  "kernelspec": {
   "display_name": "Python 3",
   "language": "python",
   "name": "python3"
  },
  "language_info": {
   "codemirror_mode": {
    "name": "ipython",
    "version": 3
   },
   "file_extension": ".py",
   "mimetype": "text/x-python",
   "name": "python",
   "nbconvert_exporter": "python",
   "pygments_lexer": "ipython3",
   "version": "3.7.1"
  }
 },
 "nbformat": 4,
 "nbformat_minor": 2
}
