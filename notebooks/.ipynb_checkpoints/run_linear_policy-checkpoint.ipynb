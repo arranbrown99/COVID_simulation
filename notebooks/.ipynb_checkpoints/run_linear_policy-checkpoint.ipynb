{
 "cells": [
  {
   "cell_type": "code",
   "execution_count": null,
   "metadata": {},
   "outputs": [],
   "source": [
    "# use full window width\n",
    "from IPython.core.display import display, HTML\n",
    "display(HTML(\"<style>.container { width:100% !important; }</style>\"))\n",
    "\n",
    "import os\n",
    "import numpy as np\n",
    "\n",
    "def get_current_dir():\n",
    "    return os.getcwd().split(\"/\")[-1]\n",
    "\n",
    "def in_project_root_directory():\n",
    "    return get_current_dir() == \"ai-coursework-group6\"\n",
    "\n",
    "if not in_project_root_directory():\n",
    "    os.chdir('..')\n",
    "\n",
    "import virl\n",
    "from matplotlib import pyplot as plt"
   ]
  },
  {
   "cell_type": "code",
   "execution_count": null,
   "metadata": {},
   "outputs": [],
   "source": [
    "import pandas as pd\n",
    "from IPython import display\n",
    "\n",
    "def smooth_plot(all_rewards, smoothed_rewards,title): \n",
    "    plt.figure(2, figsize=(12, 6))\n",
    "    plt.clf()\n",
    "    plt.title(title)\n",
    "    plt.xlabel(\"Epsiode\") \n",
    "    plt.ylabel(\"Total Reward\")\n",
    "    plt.plot(all_rewards, '--', alpha=0.5) \n",
    "    plt.plot(smoothed_rewards) \n",
    "    plt.legend([\"Rewards\", \"Rewards (Smoothed)\"]) \n",
    "    plt.pause(0.0001)"
   ]
  },
  {
   "cell_type": "code",
   "execution_count": null,
   "metadata": {},
   "outputs": [],
   "source": [
    "# Let's import basic tools for defining the function and doing the gradient-based learning\n",
    "import sklearn.pipeline\n",
    "import sklearn.preprocessing\n",
    "from sklearn.linear_model import SGDRegressor # this defines the SGD function\n",
    "from sklearn.kernel_approximation import RBFSampler # this is the RBF function transformation method"
   ]
  },
  {
   "cell_type": "code",
   "execution_count": null,
   "metadata": {},
   "outputs": [],
   "source": [
    "from LinearAprxAgent import LinearAprxAgent"
   ]
  },
  {
   "cell_type": "markdown",
   "metadata": {},
   "source": [
    "### Training"
   ]
  },
  {
   "cell_type": "code",
   "execution_count": null,
   "metadata": {},
   "outputs": [],
   "source": [
    "from plot_helper import plot\n",
    "import os"
   ]
  },
  {
   "cell_type": "code",
   "execution_count": null,
   "metadata": {
    "scrolled": true
   },
   "outputs": [],
   "source": [
    "#train on each on problem id\n",
    "for i in range(0,10):\n",
    "    env = virl.Epidemic(stochastic=False, noisy=False,problem_id=i)\n",
    "    agent = LinearAprxAgent(env)\n",
    "\n",
    "    title = \"Train: problem id \" + str(i) + \" \"\n",
    "    print(title)\n",
    "    \n",
    "    states,all_rewards, all_total_rewards,func_approximator, state_transformed, q_value = agent.train()\n",
    "    intercept = func_approximator.intercept_\n",
    "    coeff = func_approximator.coef_\n",
    "\n",
    "    #save for evaluation\n",
    "    np.savetxt(\"trained_agents/linear_policy/interceptP\" + str(i) + \".csv\", intercept, delimiter=\",\")\n",
    "    np.savetxt(\"trained_agents/linear_policy/coeffP\" + str(i) + \".csv\", coeff, delimiter=\",\")\n",
    "    np.savetxt(\"trained_agents/linear_policy/state_transformedP\" + str(i) + \".csv\", state_transformed, delimiter=\",\")\n",
    "    np.savetxt(\"trained_agents/linear_policy/q_valueP\" + str(i) + \".csv\", q_value, delimiter=\",\")\n",
    "    np.savetxt(\"trained_agents/linear_policy/lastRewardP\" + str(i) + \".csv\", all_rewards[-1], delimiter=\",\")"
   ]
  },
  {
   "cell_type": "code",
   "execution_count": null,
   "metadata": {},
   "outputs": [],
   "source": [
    "stochastic_noisy = {0:virl.Epidemic(stochastic=False, noisy=False),1:virl.Epidemic(stochastic=True, noisy=False),2:virl.Epidemic(stochastic=False, noisy=True),3:virl.Epidemic(stochastic=True, noisy=True)}\n",
    "stochastic_noisy_print = {0:\"stochastic=False, noisy=False\",1:\"stochastic=True, noisy=False\",2:\"stochastic=False, noisy=True\",3:\"stochastic=True, noisy=True\"}\n",
    "\n",
    "for i in range(0,4):\n",
    "    \n",
    "    env = stochastic_noisy[i]\n",
    "    print(stochastic_noisy_print[i])\n",
    "    agent = LinearAprxAgent(env)\n",
    "    \n",
    "    states,all_rewards, all_total_rewards,func_approximator, state_transformed, q_value = agent.train()\n",
    "    intercept = func_approximator.intercept_\n",
    "    coeff = func_approximator.coef_\n",
    "\n",
    "    #save for evaluation\n",
    "    np.savetxt(\"trained_agents/linear_policy/interceptS\" + str(i) + \".csv\", intercept, delimiter=\",\")\n",
    "    np.savetxt(\"trained_agents/linear_policy/coeffS\" + str(i) + \".csv\", coeff, delimiter=\",\")\n",
    "    np.savetxt(\"trained_agents/linear_policy/state_transformedS\" + str(i) + \".csv\", state_transformed, delimiter=\",\")\n",
    "    np.savetxt(\"trained_agents/linear_policy/q_valueS\" + str(i) + \".csv\", q_value, delimiter=\",\")\n",
    "    np.savetxt(\"trained_agents/linear_policy/lastRewardP\" + str(i) + \".csv\", all_rewards[-1], delimiter=\",\")"
   ]
  },
  {
   "cell_type": "code",
   "execution_count": null,
   "metadata": {},
   "outputs": [],
   "source": [
    "total_reward_sd = np.std(all_total_rewards)\n",
    "total_reward_mean = np.mean(all_total_rewards)\n",
    "reward_sd = np.std(all_rewards)\n",
    "reward_mean = np.mean(all_rewards)\n",
    "\n",
    "print(\"Total reward standard deviation = \" + str(total_reward_sd))\n",
    "print(\"Total reward mean = \" + str(total_reward_mean))\n",
    "print(\"Reward standard deviation = \" + str(reward_sd))\n",
    "print(\"Total reward mean = \" + str(reward_mean))"
   ]
  },
  {
   "cell_type": "code",
   "execution_count": null,
   "metadata": {},
   "outputs": [],
   "source": []
  },
  {
   "cell_type": "code",
   "execution_count": null,
   "metadata": {},
   "outputs": [],
   "source": [
    "\n"
   ]
  }
 ],
 "metadata": {
  "kernelspec": {
   "display_name": "Python 3",
   "language": "python",
   "name": "python3"
  },
  "language_info": {
   "codemirror_mode": {
    "name": "ipython",
    "version": 3
   },
   "file_extension": ".py",
   "mimetype": "text/x-python",
   "name": "python",
   "nbconvert_exporter": "python",
   "pygments_lexer": "ipython3",
   "version": "3.7.6"
  }
 },
 "nbformat": 4,
 "nbformat_minor": 2
}
