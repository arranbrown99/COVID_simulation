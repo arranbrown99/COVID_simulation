{
 "cells": [
  {
   "cell_type": "code",
   "execution_count": 1,
   "metadata": {},
   "outputs": [
    {
     "data": {
      "text/html": [
       "<style>.container { width:100% !important; }</style>"
      ],
      "text/plain": [
       "<IPython.core.display.HTML object>"
      ]
     },
     "metadata": {},
     "output_type": "display_data"
    }
   ],
   "source": [
    "# use full window width\n",
    "from IPython.core.display import display, HTML\n",
    "display(HTML(\"<style>.container { width:100% !important; }</style>\"))\n",
    "\n",
    "import os\n",
    "import numpy as np\n",
    "os.chdir('..')\n",
    "import virl\n",
    "from matplotlib import pyplot as plt"
   ]
  },
  {
   "cell_type": "code",
   "execution_count": 2,
   "metadata": {},
   "outputs": [],
   "source": [
    "class MyRandomFunctionApproximator():\n",
    "    def __init__(self):\n",
    "        self.model=None\n",
    "                \n",
    "    def predict(self, s, a=None):\n",
    "        q_s_a = np.random.randn(3,1) # defines the probablity for each action \n",
    "        return q_s_a\n",
    "                         \n",
    "func_approximator = MyRandomFunctionApproximator()\n",
    "\n",
    "class LinearAprxAgent:\n",
    "    def create_policy(self,func_approximator, epsilon):\n",
    "        def policy_fn(state):\n",
    "            \"\"\"\n",
    "            Input:\n",
    "                state: a 2D array with the position and velocity\n",
    "            Output:\n",
    "                A,q_values: \n",
    "            \"\"\"\n",
    "            nA = self.num_of_actions\n",
    "            A = np.ones(nA, dtype=float) * epsilon / nA\n",
    "            q_values = func_approximator.predict(state)\n",
    "            best_action = np.argmax(q_values)\n",
    "            A[best_action] += (1.0 - epsilon)\n",
    "            return A,q_values  # return the potentially stochastic policy (which is due to the exploration)\n",
    "\n",
    "        return policy_fn # return a handle to the function so we can call it in the future\n",
    "        \n",
    "    def __init__(self, env):\n",
    "        self.num_of_actions = env.action_space.n\n",
    "        self.env = env\n",
    "        self.policy = self.create_policy(MyRandomFunctionApproximator,0.0)\n",
    "        self.initial_epsilon = 0.5\n",
    "        self.discount = 0.99 # gamma\n",
    "        self.learning_rate = 0.25 # step size, alpha\n",
    "        self.episodes = 2000\n",
    "        self.print_out_every_x_episodes = int(self.episodes/50)\n",
    "        \n",
    "        # hyper parameters for epsilon\n",
    "        self.initial_epsilon = 1 # initial\n",
    "        self.decrease_factor = (1/self.episodes)/1.25 # epsilon\n",
    "        self.decrease_factor = 0.00075\n",
    "        \n",
    "    \n",
    "    def run_all_episodes(self):\n",
    "        all_rewards = []\n",
    "        all_q_table_exploits = []\n",
    "        epislon = self.initial_epsilon # at the start only explore\n",
    "        \n",
    "        \n",
    "        \n",
    "        for episode in range(1, self.episodes + 1):\n",
    "            rewards = self.run_episode(epislon)\n",
    "            total_reward = np.sum(rewards)\n",
    "\n",
    "            if episode % self.print_out_every_x_episodes == 0:\n",
    "                print(\"Episode number: \" + str(episode) + \". Total reward in episode: \" + str(total_reward) + \". Episode executed with epsilon = \" + str(epislon))\n",
    "                print(\"Average total reward in last \" + str(self.print_out_every_x_episodes) + \" episodes: \" + str(np.mean(all_rewards[-self.print_out_every_x_episodes:])))\n",
    "                print(\"Average number of times we exploited q table in last \" + str(self.print_out_every_x_episodes) + \" episodes: \" + str(np.mean(all_q_table_exploits[-self.print_out_every_x_episodes:])))\n",
    "                print(\"-----\")\n",
    "            all_rewards.append(total_reward)\n",
    "            epislon -= self.decrease_factor #hyperparameter\n",
    "            \n",
    "        return all_rewards\n",
    "    \n",
    "    def run_episode(self,epislon):\n",
    "        rewards = []\n",
    "        done = False\n",
    "        \n",
    "        state = self.env.reset()\n",
    "        \n",
    "        \n",
    "      \n",
    "        \n",
    "        while not done:\n",
    "            random_number = np.random.random()\n",
    "            if random_number < epislon:\n",
    "                #explore\n",
    "                action = np.random.choice(self.num_of_actions)\n",
    "            else:\n",
    "                #exploit\n",
    "                action = self.get_action(state)\n",
    "                \n",
    "                \n",
    "            new_state, reward, done, i = self.env.step(action=action)\n",
    "            \n",
    "            \n",
    "            #update q table\n",
    "            #self.update(new_state,action,reward)  \n",
    "            rewards.append(reward)\n",
    "            state = new_state\n",
    "        return (rewards)\n",
    "        \n",
    "    def update(self):\n",
    "        #update the linear function\n",
    "        return\n",
    "                                                       \n",
    "        \n",
    "    def get_action(self,state):\n",
    "        #linear function get max action\n",
    "        return self.policy(state)\n",
    "    \n",
    "    def get_action_text(self):\n",
    "        return action_text\n",
    "    \n",
    "    def get_env(self):\n",
    "        return env\n",
    "    \n",
    "    def get_chart_title(self):\n",
    "        return \"Action = \" + action_text"
   ]
  },
  {
   "cell_type": "code",
   "execution_count": 3,
   "metadata": {},
   "outputs": [
    {
     "ename": "TypeError",
     "evalue": "predict() missing 1 required positional argument: 's'",
     "output_type": "error",
     "traceback": [
      "\u001b[1;31m---------------------------------------------------------------------------\u001b[0m",
      "\u001b[1;31mTypeError\u001b[0m                                 Traceback (most recent call last)",
      "\u001b[1;32m<ipython-input-3-784b6853b48d>\u001b[0m in \u001b[0;36m<module>\u001b[1;34m\u001b[0m\n\u001b[0;32m      2\u001b[0m \u001b[0menv\u001b[0m \u001b[1;33m=\u001b[0m \u001b[0mvirl\u001b[0m\u001b[1;33m.\u001b[0m\u001b[0mEpidemic\u001b[0m\u001b[1;33m(\u001b[0m\u001b[0mstochastic\u001b[0m\u001b[1;33m=\u001b[0m\u001b[1;32mFalse\u001b[0m\u001b[1;33m,\u001b[0m \u001b[0mnoisy\u001b[0m\u001b[1;33m=\u001b[0m\u001b[1;32mFalse\u001b[0m\u001b[1;33m)\u001b[0m\u001b[1;33m\u001b[0m\u001b[1;33m\u001b[0m\u001b[0m\n\u001b[0;32m      3\u001b[0m \u001b[0magent\u001b[0m \u001b[1;33m=\u001b[0m \u001b[0mLinearAprxAgent\u001b[0m\u001b[1;33m(\u001b[0m\u001b[0menv\u001b[0m\u001b[1;33m)\u001b[0m\u001b[1;33m\u001b[0m\u001b[1;33m\u001b[0m\u001b[0m\n\u001b[1;32m----> 4\u001b[1;33m \u001b[0mstates\u001b[0m\u001b[1;33m,\u001b[0m \u001b[0mrewards\u001b[0m \u001b[1;33m=\u001b[0m \u001b[0magent\u001b[0m\u001b[1;33m.\u001b[0m\u001b[0mrun_all_episodes\u001b[0m\u001b[1;33m(\u001b[0m\u001b[1;33m)\u001b[0m\u001b[1;33m\u001b[0m\u001b[1;33m\u001b[0m\u001b[0m\n\u001b[0m\u001b[0;32m      5\u001b[0m \u001b[0mplot\u001b[0m\u001b[1;33m(\u001b[0m\u001b[0magent\u001b[0m\u001b[1;33m,\u001b[0m \u001b[0mstates\u001b[0m\u001b[1;33m,\u001b[0m \u001b[0mrewards\u001b[0m\u001b[1;33m)\u001b[0m\u001b[1;33m\u001b[0m\u001b[1;33m\u001b[0m\u001b[0m\n",
      "\u001b[1;32m<ipython-input-2-22fa5d8ccfac>\u001b[0m in \u001b[0;36mrun_all_episodes\u001b[1;34m(self)\u001b[0m\n\u001b[0;32m     51\u001b[0m \u001b[1;33m\u001b[0m\u001b[0m\n\u001b[0;32m     52\u001b[0m         \u001b[1;32mfor\u001b[0m \u001b[0mepisode\u001b[0m \u001b[1;32min\u001b[0m \u001b[0mrange\u001b[0m\u001b[1;33m(\u001b[0m\u001b[1;36m1\u001b[0m\u001b[1;33m,\u001b[0m \u001b[0mself\u001b[0m\u001b[1;33m.\u001b[0m\u001b[0mepisodes\u001b[0m \u001b[1;33m+\u001b[0m \u001b[1;36m1\u001b[0m\u001b[1;33m)\u001b[0m\u001b[1;33m:\u001b[0m\u001b[1;33m\u001b[0m\u001b[1;33m\u001b[0m\u001b[0m\n\u001b[1;32m---> 53\u001b[1;33m             \u001b[0mrewards\u001b[0m \u001b[1;33m=\u001b[0m \u001b[0mself\u001b[0m\u001b[1;33m.\u001b[0m\u001b[0mrun_episode\u001b[0m\u001b[1;33m(\u001b[0m\u001b[0mepislon\u001b[0m\u001b[1;33m)\u001b[0m\u001b[1;33m\u001b[0m\u001b[1;33m\u001b[0m\u001b[0m\n\u001b[0m\u001b[0;32m     54\u001b[0m             \u001b[0mtotal_reward\u001b[0m \u001b[1;33m=\u001b[0m \u001b[0mnp\u001b[0m\u001b[1;33m.\u001b[0m\u001b[0msum\u001b[0m\u001b[1;33m(\u001b[0m\u001b[0mrewards\u001b[0m\u001b[1;33m)\u001b[0m\u001b[1;33m\u001b[0m\u001b[1;33m\u001b[0m\u001b[0m\n\u001b[0;32m     55\u001b[0m \u001b[1;33m\u001b[0m\u001b[0m\n",
      "\u001b[1;32m<ipython-input-2-22fa5d8ccfac>\u001b[0m in \u001b[0;36mrun_episode\u001b[1;34m(self, epislon)\u001b[0m\n\u001b[0;32m     80\u001b[0m             \u001b[1;32melse\u001b[0m\u001b[1;33m:\u001b[0m\u001b[1;33m\u001b[0m\u001b[1;33m\u001b[0m\u001b[0m\n\u001b[0;32m     81\u001b[0m                 \u001b[1;31m#exploit\u001b[0m\u001b[1;33m\u001b[0m\u001b[1;33m\u001b[0m\u001b[1;33m\u001b[0m\u001b[0m\n\u001b[1;32m---> 82\u001b[1;33m                 \u001b[0maction\u001b[0m \u001b[1;33m=\u001b[0m \u001b[0mself\u001b[0m\u001b[1;33m.\u001b[0m\u001b[0mget_action\u001b[0m\u001b[1;33m(\u001b[0m\u001b[0mstate\u001b[0m\u001b[1;33m)\u001b[0m\u001b[1;33m\u001b[0m\u001b[1;33m\u001b[0m\u001b[0m\n\u001b[0m\u001b[0;32m     83\u001b[0m \u001b[1;33m\u001b[0m\u001b[0m\n\u001b[0;32m     84\u001b[0m \u001b[1;33m\u001b[0m\u001b[0m\n",
      "\u001b[1;32m<ipython-input-2-22fa5d8ccfac>\u001b[0m in \u001b[0;36mget_action\u001b[1;34m(self, state)\u001b[0m\n\u001b[0;32m     99\u001b[0m     \u001b[1;32mdef\u001b[0m \u001b[0mget_action\u001b[0m\u001b[1;33m(\u001b[0m\u001b[0mself\u001b[0m\u001b[1;33m,\u001b[0m\u001b[0mstate\u001b[0m\u001b[1;33m)\u001b[0m\u001b[1;33m:\u001b[0m\u001b[1;33m\u001b[0m\u001b[1;33m\u001b[0m\u001b[0m\n\u001b[0;32m    100\u001b[0m         \u001b[1;31m#linear function get max action\u001b[0m\u001b[1;33m\u001b[0m\u001b[1;33m\u001b[0m\u001b[1;33m\u001b[0m\u001b[0m\n\u001b[1;32m--> 101\u001b[1;33m         \u001b[1;32mreturn\u001b[0m \u001b[0mself\u001b[0m\u001b[1;33m.\u001b[0m\u001b[0mpolicy\u001b[0m\u001b[1;33m(\u001b[0m\u001b[0mstate\u001b[0m\u001b[1;33m)\u001b[0m\u001b[1;33m\u001b[0m\u001b[1;33m\u001b[0m\u001b[0m\n\u001b[0m\u001b[0;32m    102\u001b[0m \u001b[1;33m\u001b[0m\u001b[0m\n\u001b[0;32m    103\u001b[0m     \u001b[1;32mdef\u001b[0m \u001b[0mget_action_text\u001b[0m\u001b[1;33m(\u001b[0m\u001b[0mself\u001b[0m\u001b[1;33m)\u001b[0m\u001b[1;33m:\u001b[0m\u001b[1;33m\u001b[0m\u001b[1;33m\u001b[0m\u001b[0m\n",
      "\u001b[1;32m<ipython-input-2-22fa5d8ccfac>\u001b[0m in \u001b[0;36mpolicy_fn\u001b[1;34m(state)\u001b[0m\n\u001b[0;32m     20\u001b[0m             \u001b[0mnA\u001b[0m \u001b[1;33m=\u001b[0m \u001b[0mself\u001b[0m\u001b[1;33m.\u001b[0m\u001b[0mnum_of_actions\u001b[0m\u001b[1;33m\u001b[0m\u001b[1;33m\u001b[0m\u001b[0m\n\u001b[0;32m     21\u001b[0m             \u001b[0mA\u001b[0m \u001b[1;33m=\u001b[0m \u001b[0mnp\u001b[0m\u001b[1;33m.\u001b[0m\u001b[0mones\u001b[0m\u001b[1;33m(\u001b[0m\u001b[0mnA\u001b[0m\u001b[1;33m,\u001b[0m \u001b[0mdtype\u001b[0m\u001b[1;33m=\u001b[0m\u001b[0mfloat\u001b[0m\u001b[1;33m)\u001b[0m \u001b[1;33m*\u001b[0m \u001b[0mepsilon\u001b[0m \u001b[1;33m/\u001b[0m \u001b[0mnA\u001b[0m\u001b[1;33m\u001b[0m\u001b[1;33m\u001b[0m\u001b[0m\n\u001b[1;32m---> 22\u001b[1;33m             \u001b[0mq_values\u001b[0m \u001b[1;33m=\u001b[0m \u001b[0mfunc_approximator\u001b[0m\u001b[1;33m.\u001b[0m\u001b[0mpredict\u001b[0m\u001b[1;33m(\u001b[0m\u001b[0mstate\u001b[0m\u001b[1;33m)\u001b[0m\u001b[1;33m\u001b[0m\u001b[1;33m\u001b[0m\u001b[0m\n\u001b[0m\u001b[0;32m     23\u001b[0m             \u001b[0mbest_action\u001b[0m \u001b[1;33m=\u001b[0m \u001b[0mnp\u001b[0m\u001b[1;33m.\u001b[0m\u001b[0margmax\u001b[0m\u001b[1;33m(\u001b[0m\u001b[0mq_values\u001b[0m\u001b[1;33m)\u001b[0m\u001b[1;33m\u001b[0m\u001b[1;33m\u001b[0m\u001b[0m\n\u001b[0;32m     24\u001b[0m             \u001b[0mA\u001b[0m\u001b[1;33m[\u001b[0m\u001b[0mbest_action\u001b[0m\u001b[1;33m]\u001b[0m \u001b[1;33m+=\u001b[0m \u001b[1;33m(\u001b[0m\u001b[1;36m1.0\u001b[0m \u001b[1;33m-\u001b[0m \u001b[0mepsilon\u001b[0m\u001b[1;33m)\u001b[0m\u001b[1;33m\u001b[0m\u001b[1;33m\u001b[0m\u001b[0m\n",
      "\u001b[1;31mTypeError\u001b[0m: predict() missing 1 required positional argument: 's'"
     ]
    }
   ],
   "source": [
    "actions = [\"no intervention\", \"impose a full lockdown\", \"implement track & trace\", \"enforce social distancing and face masks\"]\n",
    "env = virl.Epidemic(stochastic=False, noisy=False)\n",
    "agent = LinearAprxAgent(env)\n",
    "states, rewards = agent.run_all_episodes()\n",
    "plot(agent, states, rewards)"
   ]
  }
 ],
 "metadata": {
  "kernelspec": {
   "display_name": "Python 3",
   "language": "python",
   "name": "python3"
  },
  "language_info": {
   "codemirror_mode": {
    "name": "ipython",
    "version": 3
   },
   "file_extension": ".py",
   "mimetype": "text/x-python",
   "name": "python",
   "nbconvert_exporter": "python",
   "pygments_lexer": "ipython3",
   "version": "3.7.1"
  }
 },
 "nbformat": 4,
 "nbformat_minor": 2
}
