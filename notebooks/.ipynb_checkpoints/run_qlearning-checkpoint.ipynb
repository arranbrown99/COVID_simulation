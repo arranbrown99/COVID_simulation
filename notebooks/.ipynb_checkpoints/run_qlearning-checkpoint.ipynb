{
 "cells": [
  {
   "cell_type": "markdown",
   "metadata": {},
   "source": [
    "## Setup"
   ]
  },
  {
   "cell_type": "code",
   "execution_count": 1,
   "metadata": {},
   "outputs": [
    {
     "data": {
      "text/html": [
       "<style>.container { width:100% !important; }</style>"
      ],
      "text/plain": [
       "<IPython.core.display.HTML object>"
      ]
     },
     "metadata": {},
     "output_type": "display_data"
    },
    {
     "name": "stdout",
     "output_type": "stream",
     "text": [
      "C:\\Users\\chozo\n",
      "C:\\Users\\chozo\\ai-coursework-group6\\notebooks\\QLearning_output\n"
     ]
    },
    {
     "data": {
      "text/plain": [
       "'C:\\\\Users\\\\chozo\\\\ai-coursework-group6\\\\notebooks\\\\QLearning_output'"
      ]
     },
     "execution_count": 1,
     "metadata": {},
     "output_type": "execute_result"
    }
   ],
   "source": [
    "# use full window width\n",
    "from IPython.core.display import display, HTML\n",
    "display(HTML(\"<style>.container { width:100% !important; }</style>\"))\n",
    "\n",
    "import os\n",
    "import numpy as np\n",
    "os.chdir('..')\n",
    "import virl\n",
    "from matplotlib import pyplot as plt\n",
    "import pickle \n",
    "\n",
    "%cd\n",
    "%cd ai-coursework-group6\\notebooks\\QLearning_output\n",
    "%pwd"
   ]
  },
  {
   "cell_type": "markdown",
   "metadata": {},
   "source": [
    "## Agent Implementation"
   ]
  },
  {
   "cell_type": "code",
   "execution_count": 2,
   "metadata": {},
   "outputs": [],
   "source": [
    "from QLearningAgent import QLearningAgent,QTable"
   ]
  },
  {
   "cell_type": "markdown",
   "metadata": {},
   "source": [
    "## Train"
   ]
  },
  {
   "cell_type": "code",
   "execution_count": 3,
   "metadata": {},
   "outputs": [],
   "source": [
    "from plot_helper import plot"
   ]
  },
  {
   "cell_type": "code",
   "execution_count": null,
   "metadata": {},
   "outputs": [
    {
     "name": "stdout",
     "output_type": "stream",
     "text": [
      "Problem id: 0\n",
      "\n",
      "Hyperparameter dump\n",
      "----\n",
      "Number Of Episodes = 1000\n",
      "Print out every 20 episodes\n",
      "Learning Rate = 0.25\n",
      "Discount = 0.99\n",
      "----\n",
      "Initial Epsilon = 1\n",
      "Epsilon Decrease Factor = 0.00075\n",
      "----\n",
      "Number of Bins to Discretise State = 20\n",
      "----\n",
      "Episode number: 300. Total reward in episode: -1.9632216161917413. Episode executed with epsilon = 0.7757499999999915\n",
      "Average total reward in last 20 episodes: -0.03030082467914603\n",
      "Average number of times we exploited q table in last 20 episodes: 10.8\n",
      "Episode number: 600. Total reward in episode: -1.3242582459463725. Episode executed with epsilon = 0.550749999999983\n",
      "Average total reward in last 20 episodes: -0.02930107546392697\n",
      "Average number of times we exploited q table in last 20 episodes: 21.9\n",
      "Episode number: 900. Total reward in episode: -1.5365248996593555. Episode executed with epsilon = 0.3257499999999874\n",
      "Average total reward in last 20 episodes: -0.03003876076798626\n",
      "Average number of times we exploited q table in last 20 episodes: 34.15\n",
      "Problem id: 1\n",
      "\n",
      "Hyperparameter dump\n",
      "----\n",
      "Number Of Episodes = 1000\n",
      "Print out every 20 episodes\n",
      "Learning Rate = 0.25\n",
      "Discount = 0.99\n",
      "----\n",
      "Initial Epsilon = 1\n",
      "Epsilon Decrease Factor = 0.00075\n",
      "----\n",
      "Number of Bins to Discretise State = 20\n",
      "----\n",
      "Episode number: 300. Total reward in episode: -0.498967729039072. Episode executed with epsilon = 0.7757499999999915\n",
      "Average total reward in last 20 episodes: -0.01053679724211578\n",
      "Average number of times we exploited q table in last 20 episodes: 11.15\n",
      "Episode number: 600. Total reward in episode: -0.43630725713860535. Episode executed with epsilon = 0.550749999999983\n",
      "Average total reward in last 20 episodes: -0.00819966030115006\n",
      "Average number of times we exploited q table in last 20 episodes: 22.2\n",
      "Episode number: 900. Total reward in episode: -0.5997522044827828. Episode executed with epsilon = 0.3257499999999874\n",
      "Average total reward in last 20 episodes: -0.009801996600869965\n",
      "Average number of times we exploited q table in last 20 episodes: 35.25\n",
      "Problem id: 2\n",
      "\n",
      "Hyperparameter dump\n",
      "----\n",
      "Number Of Episodes = 1000\n",
      "Print out every 20 episodes\n",
      "Learning Rate = 0.25\n",
      "Discount = 0.99\n",
      "----\n",
      "Initial Epsilon = 1\n",
      "Epsilon Decrease Factor = 0.00075\n",
      "----\n",
      "Number of Bins to Discretise State = 20\n",
      "----\n",
      "Episode number: 300. Total reward in episode: -0.6246135875533062. Episode executed with epsilon = 0.7757499999999915\n",
      "Average total reward in last 20 episodes: -0.012911101311272318\n",
      "Average number of times we exploited q table in last 20 episodes: 10.15\n"
     ]
    }
   ],
   "source": [
    "#change the problem id\n",
    "\n",
    "for i in range(0,10):\n",
    "    print(\"Problem id: \" + str(i))\n",
    "    print()\n",
    "    env = virl.Epidemic(stochastic=False, noisy=False,problem_id=i)\n",
    "    title = \"Train: problem id \" + str(i) + \" \"\n",
    "    agent = QLearningAgent(env)\n",
    "    states,all_rewards, all_total_rewards = agent.train()\n",
    "\n",
    "    with open('qlearningP' + str(i) + '.pkl', 'wb') as output:\n",
    "        pickle.dump(agent, output, pickle.HIGHEST_PROTOCOL)\n",
    "        plot(states,agent, all_total_rewards, all_rewards,title)"
   ]
  },
  {
   "cell_type": "code",
   "execution_count": null,
   "metadata": {},
   "outputs": [],
   "source": [
    "#chnage stochastic and noisy\n",
    "stochastic_noisy = {0:virl.Epidemic(stochastic=False, noisy=False),1:virl.Epidemic(stochastic=True, noisy=False),2:virl.Epidemic(stochastic=False, noisy=True),3:virl.Epidemic(stochastic=True, noisy=True)}\n",
    "stochastic_noisy_print = {0:\"stochastic=False, noisy=False\",1:\"stochastic=True, noisy=False\",2:\"stochastic=False, noisy=True\",3:\"stochastic=True, noisy=True\"}\n",
    "for i in range(0,4):\n",
    "    print(stochastic_noisy_print[i])\n",
    "    env = stochastic_noisy[i]     \n",
    "    \n",
    "    title = \"Train: \" + stochastic_noisy_print + \" \"\n",
    "    print(title)\n",
    "    agent = QLearningAgent(env)\n",
    "    states,all_rewards, all_total_rewards = agent.train()\n",
    "\n",
    "    #outputs binaries\n",
    "    with open('qlearningS' + str(i) + '.pkl', 'wb') as output:\n",
    "        pickle.dump(agent, output, pickle.HIGHEST_PROTOCOL)\n",
    "        plot(states,agent, all_total_rewards, all_rewards,title)\n"
   ]
  },
  {
   "cell_type": "code",
   "execution_count": null,
   "metadata": {},
   "outputs": [],
   "source": [
    "total_reward_sd = np.std(all_total_rewards)\n",
    "total_reward_mean = np.mean(all_total_rewards)\n",
    "reward_sd = np.std(all_rewards)\n",
    "reward_mean = np.mean(all_rewards)\n",
    "\n",
    "print(\"Total reward standard deviation = \" + str(total_reward_sd))\n",
    "print(\"Total reward mean = \" + str(total_reward_mean))\n",
    "print(\"Reward standard deviation = \" + str(reward_sd))\n",
    "print(\"Rotal reward mean = \" + str(reward_mean))"
   ]
  },
  {
   "cell_type": "markdown",
   "metadata": {},
   "source": [
    "## Evaluation"
   ]
  },
  {
   "cell_type": "markdown",
   "metadata": {},
   "source": [
    "Eval here"
   ]
  },
  {
   "cell_type": "markdown",
   "metadata": {},
   "source": []
  },
  {
   "cell_type": "code",
   "execution_count": null,
   "metadata": {},
   "outputs": [],
   "source": []
  },
  {
   "cell_type": "code",
   "execution_count": null,
   "metadata": {},
   "outputs": [],
   "source": []
  }
 ],
 "metadata": {
  "celltoolbar": "Raw Cell Format",
  "kernelspec": {
   "display_name": "Python 3",
   "language": "python",
   "name": "python3"
  },
  "language_info": {
   "codemirror_mode": {
    "name": "ipython",
    "version": 3
   },
   "file_extension": ".py",
   "mimetype": "text/x-python",
   "name": "python",
   "nbconvert_exporter": "python",
   "pygments_lexer": "ipython3",
   "version": "3.7.1"
  },
  "toc": {
   "base_numbering": 1,
   "nav_menu": {},
   "number_sections": true,
   "sideBar": true,
   "skip_h1_title": false,
   "title_cell": "Table of Contents",
   "title_sidebar": "Contents",
   "toc_cell": false,
   "toc_position": {},
   "toc_section_display": true,
   "toc_window_display": false
  }
 },
 "nbformat": 4,
 "nbformat_minor": 2
}
