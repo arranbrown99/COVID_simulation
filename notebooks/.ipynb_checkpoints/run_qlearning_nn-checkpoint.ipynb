{
 "cells": [
  {
   "cell_type": "markdown",
   "metadata": {},
   "source": [
    "## Setup"
   ]
  },
  {
   "cell_type": "code",
   "execution_count": 1,
   "metadata": {},
   "outputs": [
    {
     "data": {
      "text/html": [
       "<style>.container { width:100% !important; }</style>"
      ],
      "text/plain": [
       "<IPython.core.display.HTML object>"
      ]
     },
     "metadata": {},
     "output_type": "display_data"
    }
   ],
   "source": [
    "# use full window width\n",
    "from IPython.core.display import display, HTML\n",
    "display(HTML(\"<style>.container { width:100% !important; }</style>\"))\n",
    "\n",
    "import os\n",
    "import numpy as np\n",
    "import pandas as pd\n",
    "os.chdir('..')\n",
    "import virl\n",
    "from matplotlib import pyplot as plt\n",
    "from collections import deque, namedtuple\n",
    "from operator import attrgetter\n",
    "import random\n",
    "\n",
    "from IPython import display"
   ]
  },
  {
   "cell_type": "code",
   "execution_count": 2,
   "metadata": {},
   "outputs": [],
   "source": [
    "# Keras and backend for neural networks\n",
    "import keras\n",
    "from keras.models import Sequential\n",
    "from keras.layers import Dense\n",
    "from keras.optimizers import Adam\n",
    "from keras import backend as K\n",
    "\n",
    "from tensorflow import where as tf_where"
   ]
  },
  {
   "cell_type": "markdown",
   "metadata": {},
   "source": [
    "## Neural Network Class"
   ]
  },
  {
   "cell_type": "code",
   "execution_count": 3,
   "metadata": {
    "scrolled": false
   },
   "outputs": [],
   "source": [
    "class NNFunctionApproximatorJointKeras():\n",
    "    \n",
    "    def __init__(self, learning_rate, input_layer_dim, output_layer_dim, nn_config, verbose=False):        \n",
    "        self.learning_rate = learning_rate \n",
    "        self.nn_config = nn_config      # determines the size of the hidden layer (if any)              \n",
    "        self.input_layer_dim = input_layer_dim     \n",
    "        self.output_layer_dim = output_layer_dim  \n",
    "        self.verbose=verbose # Print debug information        \n",
    "        self.n_layers = len(nn_config)\n",
    "        self.model = self._build_model()  \n",
    "                        \n",
    "    def _huber_loss(self,y_true, y_pred, clip_delta=1.0):\n",
    "        \"\"\"\n",
    "        Huber loss (for use in Keras), see https://en.wikipedia.org/wiki/Huber_loss\n",
    "        The huber loss tends to provide more robust learning in RL settings where there are \n",
    "        often \"outliers\" before the functions has converged.\n",
    "        \"\"\"\n",
    "        error = y_true - y_pred\n",
    "        cond  = K.abs(error) <= clip_delta\n",
    "        squared_loss = 0.5 * K.square(error)\n",
    "        quadratic_loss = 0.5 * K.square(clip_delta) + clip_delta * (K.abs(error) - clip_delta)\n",
    "        return K.mean(tf_where(cond, squared_loss, quadratic_loss))\n",
    "\n",
    "    def _build_model(self):\n",
    "        # Neural Net for Deep-Q learning \n",
    "        model = Sequential()\n",
    "        for ilayer in self.nn_config:\n",
    "            model.add(Dense(ilayer, input_dim=self.input_layer_dim, activation='relu'))        \n",
    "        model.add(Dense(self.output_layer_dim, activation='linear'))\n",
    "        model.compile(loss=self._huber_loss, # define a special loss function\n",
    "                      optimizer=Adam(lr=self.learning_rate, clipnorm=10.)) # specify the optimiser, we clip the gradient of the norm which can make traning more robust\n",
    "        return model\n",
    "\n",
    "    def predict(self, s, a=None):              \n",
    "        if a==None:            \n",
    "            return self._predict_nn(s)\n",
    "        else:                        \n",
    "            return self._predict_nn(s)[a]\n",
    "        \n",
    "    def _predict_nn(self,state_hat):                          \n",
    "        \"\"\"\n",
    "        Predict the output of the neural netwwork (note: these can be vectors)\n",
    "        \"\"\"                \n",
    "        x = self.model.predict(state_hat)                                                    \n",
    "        return x\n",
    "  \n",
    "    def update(self, states, td_target):\n",
    "        self.model.fit(states, td_target, epochs=1, verbose=0) # take one gradient step usign Adam               \n",
    "        return\n"
   ]
  },
  {
   "cell_type": "markdown",
   "metadata": {},
   "source": [
    "## Memory Class"
   ]
  },
  {
   "cell_type": "code",
   "execution_count": 4,
   "metadata": {},
   "outputs": [],
   "source": [
    "Transition = namedtuple('Transition',\n",
    "                        ('state', 'action', 'new_state', 'reward'))\n",
    "\n",
    "class ReplayMemory():\n",
    "    \"\"\"\n",
    "    Implement a replay buffer using the deque collection\n",
    "    \"\"\"\n",
    "\n",
    "    def __init__(self, size, batch_size):\n",
    "        self.capacity = size\n",
    "        self.memory = deque(maxlen=size)\n",
    "        self.batch_size = batch_size\n",
    "\n",
    "    def push(self, *args):\n",
    "        \"\"\"Saves a transition.\"\"\"\n",
    "        self.memory.append(Transition(*args))\n",
    "\n",
    "    def pop(self):\n",
    "        return self.memory.pop()\n",
    "\n",
    "    def sample(self):\n",
    "        return random.sample(self.memory, self.batch_size)\n",
    "    \n",
    "    def can_sample(self):\n",
    "        return len(self.memory) >= self.batch_size\n",
    "    \n",
    "    def extract_samples(self):\n",
    "        returned_batch_size = int(self.batch_size/2)\n",
    "        \n",
    "        transitions = self.sample()\n",
    "        best_transitions = sorted(transitions, key=attrgetter(\"reward\"), reverse=True)\n",
    "        transitions = best_transitions[:returned_batch_size]\n",
    "        batch = Transition(*zip(*transitions))\n",
    "        train_rewards = np.array(batch.reward)\n",
    "        train_states = np.array(batch.state)\n",
    "        train_new_state = np.array(batch.new_state)\n",
    "        train_actions = np.array(batch.action)\n",
    "        return train_rewards, train_states, train_new_state, train_actions, returned_batch_size\n",
    "    \n",
    " "
   ]
  },
  {
   "cell_type": "markdown",
   "metadata": {},
   "source": [
    "## Agent Class"
   ]
  },
  {
   "cell_type": "code",
   "execution_count": 5,
   "metadata": {},
   "outputs": [],
   "source": [
    "class Agent():\n",
    "    \n",
    "    def __init__(self, env, learning_rate=0.001):\n",
    "        self.env = env\n",
    "        self.n_actions = env.action_space.n\n",
    "        self.d_states = env.observation_space.shape[0]\n",
    "        self.learning_rate = learning_rate\n",
    "        \n",
    "    def get_action(self, strategy, policy_network, state):\n",
    "        action = self.get_random_action()\n",
    "        exploit = False\n",
    "        if not self.is_learning():\n",
    "            action = self.predict_action_from_nn(policy_network, state) # exploit\n",
    "            exploit = True\n",
    "        else:\n",
    "            if not strategy.should_explore():\n",
    "                action = self.predict_action_from_nn(policy_network, state) # exploit\n",
    "                exploit = True\n",
    "        return (action, exploit)\n",
    "    \n",
    "    def get_num_actions(self):\n",
    "        return self.n_actions\n",
    "    \n",
    "    def get_num_states(self):\n",
    "        return self.d_states\n",
    "    \n",
    "    def get_random_action(self):\n",
    "        return np.random.choice(self.get_num_actions())\n",
    "    \n",
    "    def predict_action_from_nn(self, policy_network, state):\n",
    "        action = policy_network.predict(state)[0]\n",
    "        action = np.argmax(action)\n",
    "        return action\n",
    "    \n",
    "    def preprocess_state(self, state):\n",
    "        return np.reshape(state, [1, self.get_num_states()])\n",
    "    \n",
    "    def is_learning(self):\n",
    "        return self.learning_rate > 0.0"
   ]
  },
  {
   "cell_type": "markdown",
   "metadata": {},
   "source": [
    "## Epsilon Strategy Class"
   ]
  },
  {
   "cell_type": "code",
   "execution_count": 6,
   "metadata": {},
   "outputs": [],
   "source": [
    "class Strategy():\n",
    "    \n",
    "    def __init__(self, epsilon, epsilon_decay):\n",
    "        self.epsilon = epsilon\n",
    "        self.epsilon_decay = epsilon_decay\n",
    "        \n",
    "    def episode_complete(self):\n",
    "        self.epsilon *= self.epsilon_decay\n",
    "        \n",
    "    def should_explore(self):\n",
    "        return np.random.random() < self.epsilon"
   ]
  },
  {
   "cell_type": "markdown",
   "metadata": {},
   "source": [
    "## Initialise Networks Function"
   ]
  },
  {
   "cell_type": "code",
   "execution_count": 7,
   "metadata": {},
   "outputs": [],
   "source": [
    "def init_networks(input_layer_dim, output_layer_dim, learning_rate=0.001, nn_config=[24,24]):\n",
    "    # Init the two networks\n",
    "    policy_network = NNFunctionApproximatorJointKeras(learning_rate, input_layer_dim, output_layer_dim, nn_config)\n",
    "    target_network = NNFunctionApproximatorJointKeras(learning_rate, input_layer_dim, output_layer_dim, nn_config)\n",
    "    target_network.model.set_weights(policy_network.model.get_weights())\n",
    "    return (policy_network, target_network)"
   ]
  },
  {
   "cell_type": "markdown",
   "metadata": {},
   "source": [
    "## QLearning Function"
   ]
  },
  {
   "cell_type": "code",
   "execution_count": 25,
   "metadata": {},
   "outputs": [],
   "source": [
    "def plot(all_rewards, smoothed_rewards):\n",
    "    plt.figure(2, figsize=(12, 6))\n",
    "    plt.clf()\n",
    "    plt.title(\"Training\")\n",
    "    plt.xlabel(\"Epsiode\")\n",
    "    plt.ylabel(\"Total Reward\")\n",
    "    plt.plot(all_rewards, '--', alpha=0.5)\n",
    "    plt.plot(smoothed_rewards)\n",
    "    plt.legend([\"Rewards\", \"Rewards (Smoothed)\"])\n",
    "    plt.pause(0.0001)\n",
    "    display.clear_output(wait=True)\n",
    "    \n",
    "\n",
    "def qlearning_nn(agent, policy_network, target_network, num_episodes, window_size, strategy=None, memory=None, ):\n",
    "\n",
    "    if agent.is_learning() and memory is None:\n",
    "        print(\"Agent is learning, function requires memory\")\n",
    "    if agent.is_learning() and strategy is None:\n",
    "        print(\"Agent is learning, function requires strategy\")\n",
    "    \n",
    "    discount_factor = 0.95\n",
    "    env = agent.env\n",
    "    \n",
    "    all_rewards = []\n",
    "    for episode in range(num_episodes):\n",
    "        done = False\n",
    "        rewards = []\n",
    "        exploits = 0\n",
    "        \n",
    "        state = agent.preprocess_state(env.reset())\n",
    "        \n",
    "        while not done:\n",
    "\n",
    "            action, exploit = agent.get_action(strategy, policy_network, state)\n",
    "            if exploit:\n",
    "                exploits+=1\n",
    "                \n",
    "\n",
    "            new_state, reward, done, i = env.step(action=action)\n",
    "            new_state = agent.preprocess_state(new_state)\n",
    "            rewards.append(reward)\n",
    "            \n",
    "            if agent.is_learning():\n",
    "                memory.push(state, action, new_state, reward)\n",
    "        \n",
    "            if done:\n",
    "                if agent.is_learning():\n",
    "                    if memory.can_sample():\n",
    "                        # Fetch a batch from the replay buffer and extract as numpy arrays \n",
    "                        train_rewards, train_states, train_new_state, train_actions, batch_size = memory.extract_samples()\n",
    "\n",
    "                        q_values_for_current_state = policy_network.predict(train_states.reshape(batch_size,agent.get_num_states())) # predict current values for the given states\n",
    "                        q_values_for_new_state     = target_network.predict(train_new_state.reshape(batch_size,agent.get_num_states()))                    \n",
    "                        q_values_for_current_state_tmp = train_rewards + discount_factor * np.amax(q_values_for_new_state,axis=1)                \n",
    "                        q_values_for_current_state[ (np.arange(batch_size), train_actions.reshape(batch_size,).astype(int))] = q_values_for_current_state_tmp                                                                              \n",
    "                        policy_network.update(train_states.reshape(batch_size,agent.get_num_states()), q_values_for_current_state) # Update the function approximator \n",
    "                \n",
    "                if episode % 100 == 0:\n",
    "                    target_network.model.set_weights(policy_network.model.get_weights())\n",
    "                total_reward = np.sum(rewards)\n",
    "                all_rewards.append(total_reward)\n",
    "                \n",
    "                ## taking moving average of rewards to smooth\n",
    "                smoothed_rewards = pd.Series(all_rewards).rolling(window_size, min_periods=window_size).mean()\n",
    "                this_smoothed_reward = smoothed_rewards.values[-1]\n",
    "                \n",
    "                        \n",
    "                if num_episodes == 1:\n",
    "                    plot(all_rewards, smoothed_rewards)\n",
    "                    print(\"Evaluation reward \" + str(total_reward))\n",
    "                else:\n",
    "                    print(\"Episode = \" + str(episode) + \". Num Exploits = \" + str(exploits) + \". Total Reward = \" + str(total_reward)\n",
    "                          + \". Moving Average Reward = \" + str(this_smoothed_reward))\n",
    "\n",
    "                \n",
    "            state = new_state\n",
    "            if strategy:\n",
    "                strategy.episode_complete()\n",
    "    \n",
    "    return all_rewards"
   ]
  },
  {
   "cell_type": "markdown",
   "metadata": {},
   "source": [
    "# Training"
   ]
  },
  {
   "cell_type": "code",
   "execution_count": 9,
   "metadata": {
    "scrolled": false
   },
   "outputs": [
    {
     "name": "stdout",
     "output_type": "stream",
     "text": [
      "Episode = 99. Epsilon = 0.5644398495967841. Num Exploits = 25. Total Reward = -1.683839681078498. Moving Average Reward = -1.7253498332517327\n"
     ]
    },
    {
     "data": {
      "image/png": "[encoded data removed]",
      "text/plain": [
       "<Figure size 864x432 with 1 Axes>"
      ]
     },
     "metadata": {
      "needs_background": "light"
     },
     "output_type": "display_data"
    }
   ],
   "source": [
    "episodes = 2000\n",
    "epsilon_decay = 0.999985\n",
    "window_size = 100\n",
    "\n",
    "env = virl.Epidemic(stochastic=False, noisy=False)\n",
    "agent = Agent(env, learning_rate=0.001)\n",
    "memory = ReplayMemory(size=520, batch_size=208)  # only actually gets the best 104 samples from 208\n",
    "\n",
    "strategy = Strategy(epsilon=1, epsilon_decay=epsilon_decay)\n",
    "policy_network, target_network = init_networks(agent.get_num_states(), agent.get_num_actions(), agent.learning_rate)\n",
    "\n",
    "rewards = qlearning_nn(\n",
    "    agent=agent, \n",
    "    policy_network=policy_network, \n",
    "    target_network=target_network,\n",
    "    num_episodes=episodes,\n",
    "    window_size=window_size, \n",
    "    strategy=strategy,\n",
    "    memory=memory\n",
    ")"
   ]
  },
  {
   "cell_type": "markdown",
   "metadata": {},
   "source": [
    "# Evaluation"
   ]
  },
  {
   "cell_type": "code",
   "execution_count": 27,
   "metadata": {},
   "outputs": [
    {
     "name": "stdout",
     "output_type": "stream",
     "text": [
      "Evaluation reward -2.1540934842388837\n"
     ]
    }
   ],
   "source": [
    "env = virl.Epidemic(stochastic=True, noisy=False)\n",
    "\n",
    "agent = Agent(env, learning_rate=0.0)\n",
    "rewards = qlearning_nn(\n",
    "    agent=agent,\n",
    "    policy_network=policy_network,\n",
    "    target_network=target_network,\n",
    "    num_episodes=1,\n",
    "    window_size=1\n",
    ")"
   ]
  },
  {
   "cell_type": "code",
   "execution_count": 34,
   "metadata": {},
   "outputs": [
    {
     "name": "stdout",
     "output_type": "stream",
     "text": [
      "Epsilon with decay 0.999986 and 3000 episodes\n",
      "After 750 episodes, epsilon will be 0.5792600174250397\n",
      "After 1500 episodes, epsilon will be 0.3355421677872573\n",
      "After 2250 episodes, epsilon will be 0.19436616195928227\n",
      "After 3000 episodes, epsilon will be 0.11258854636337193\n",
      "------\n",
      "Epsilon with decay 0.999985 and 2000 episodes\n",
      "After 500 episodes, epsilon will be 0.6770548940901385\n",
      "After 1000 episodes, epsilon will be 0.45840332961140867\n",
      "After 1500 episodes, epsilon will be 0.3103642177806191\n",
      "After 2000 episodes, epsilon will be 0.21013361259882576\n",
      "------\n"
     ]
    }
   ],
   "source": [
    "def epsilon_with(decay, episodes):\n",
    "    print(\"Epsilon with decay \" + str(decay) + \" and \" + str(episodes) + \" episodes\")\n",
    "    check_epsilon_after(decay, int(episodes/4))    \n",
    "    check_epsilon_after(decay, int(episodes/2))    \n",
    "    check_epsilon_after(decay, int((episodes*3)/4))    \n",
    "    check_epsilon_after(decay, int(episodes))\n",
    "    print(\"------\")\n",
    "\n",
    "def check_epsilon_after(decay, episodes):\n",
    "    value = (decay**52)**episodes\n",
    "    print(\"After \" + str(episodes) + \" episodes, epsilon will be \" + str(value))\n",
    "    \n",
    "# epsilon_with(0.99989, 300)\n",
    "epsilon_with(0.999986, 3000)\n",
    "\n",
    "epsilon_with(0.999985, 2000)"
   ]
  },
  {
   "cell_type": "code",
   "execution_count": null,
   "metadata": {},
   "outputs": [],
   "source": []
  }
 ],
 "metadata": {
  "celltoolbar": "Raw Cell Format",
  "kernelspec": {
   "display_name": "Python 3",
   "language": "python",
   "name": "python3"
  },
  "language_info": {
   "codemirror_mode": {
    "name": "ipython",
    "version": 3
   },
   "file_extension": ".py",
   "mimetype": "text/x-python",
   "name": "python",
   "nbconvert_exporter": "python",
   "pygments_lexer": "ipython3",
   "version": "3.7.6"
  },
  "toc": {
   "base_numbering": 1,
   "nav_menu": {},
   "number_sections": true,
   "sideBar": true,
   "skip_h1_title": false,
   "title_cell": "Table of Contents",
   "title_sidebar": "Contents",
   "toc_cell": false,
   "toc_position": {},
   "toc_section_display": true,
   "toc_window_display": false
  }
 },
 "nbformat": 4,
 "nbformat_minor": 2
}
