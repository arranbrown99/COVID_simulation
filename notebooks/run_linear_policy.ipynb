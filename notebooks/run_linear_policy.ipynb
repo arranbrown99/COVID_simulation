{
 "cells": [
  {
   "cell_type": "code",
   "execution_count": 1,
   "metadata": {},
   "outputs": [
    {
     "data": {
      "text/html": [
       "<style>.container { width:100% !important; }</style>"
      ],
      "text/plain": [
       "<IPython.core.display.HTML object>"
      ]
     },
     "metadata": {},
     "output_type": "display_data"
    },
    {
     "name": "stdout",
     "output_type": "stream",
     "text": [
      "C:\\Users\\chozo\n"
     ]
    },
    {
     "ename": "FileExistsError",
     "evalue": "[WinError 183] Cannot create a file when that file already exists: 'linear_aprx_output'",
     "output_type": "error",
     "traceback": [
      "\u001b[1;31m---------------------------------------------------------------------------\u001b[0m",
      "\u001b[1;31mFileExistsError\u001b[0m                           Traceback (most recent call last)",
      "\u001b[1;32m<ipython-input-1-2052e9fe402d>\u001b[0m in \u001b[0;36m<module>\u001b[1;34m\u001b[0m\n\u001b[0;32m     10\u001b[0m \u001b[1;33m\u001b[0m\u001b[0m\n\u001b[0;32m     11\u001b[0m \u001b[0mget_ipython\u001b[0m\u001b[1;33m(\u001b[0m\u001b[1;33m)\u001b[0m\u001b[1;33m.\u001b[0m\u001b[0mrun_line_magic\u001b[0m\u001b[1;33m(\u001b[0m\u001b[1;34m'cd'\u001b[0m\u001b[1;33m,\u001b[0m \u001b[1;34m''\u001b[0m\u001b[1;33m)\u001b[0m\u001b[1;33m\u001b[0m\u001b[1;33m\u001b[0m\u001b[0m\n\u001b[1;32m---> 12\u001b[1;33m \u001b[0mos\u001b[0m\u001b[1;33m.\u001b[0m\u001b[0mmkdir\u001b[0m\u001b[1;33m(\u001b[0m\u001b[1;34m'linear_aprx_output'\u001b[0m\u001b[1;33m)\u001b[0m\u001b[1;33m\u001b[0m\u001b[1;33m\u001b[0m\u001b[0m\n\u001b[0m\u001b[0;32m     13\u001b[0m \u001b[0mget_ipython\u001b[0m\u001b[1;33m(\u001b[0m\u001b[1;33m)\u001b[0m\u001b[1;33m.\u001b[0m\u001b[0mrun_line_magic\u001b[0m\u001b[1;33m(\u001b[0m\u001b[1;34m'cd'\u001b[0m\u001b[1;33m,\u001b[0m \u001b[1;34m'linear_aprx_output'\u001b[0m\u001b[1;33m)\u001b[0m\u001b[1;33m\u001b[0m\u001b[1;33m\u001b[0m\u001b[0m\n\u001b[0;32m     14\u001b[0m \u001b[0mget_ipython\u001b[0m\u001b[1;33m(\u001b[0m\u001b[1;33m)\u001b[0m\u001b[1;33m.\u001b[0m\u001b[0mrun_line_magic\u001b[0m\u001b[1;33m(\u001b[0m\u001b[1;34m'pwd'\u001b[0m\u001b[1;33m,\u001b[0m \u001b[1;34m''\u001b[0m\u001b[1;33m)\u001b[0m\u001b[1;33m\u001b[0m\u001b[1;33m\u001b[0m\u001b[0m\n",
      "\u001b[1;31mFileExistsError\u001b[0m: [WinError 183] Cannot create a file when that file already exists: 'linear_aprx_output'"
     ]
    }
   ],
   "source": [
    "# use full window width\n",
    "from IPython.core.display import display, HTML\n",
    "display(HTML(\"<style>.container { width:100% !important; }</style>\"))\n",
    "\n",
    "import os\n",
    "import numpy as np\n",
    "os.chdir('..')\n",
    "import virl\n",
    "from matplotlib import pyplot as plt\n",
    "\n",
    "%cd\n",
    "os.mkdir('linear_aprx_output')\n",
    "%cd linear_aprx_output\n",
    "%pwd"
   ]
  },
  {
   "cell_type": "code",
   "execution_count": null,
   "metadata": {},
   "outputs": [],
   "source": [
    "import pandas as pd\n",
    "#import display, HTML\n",
    "from IPython import display\n",
    "\n",
    "\n",
    "def smooth_plot(all_rewards, smoothed_rewards,title): \n",
    "    plt.figure(2, figsize=(12, 6))\n",
    "    plt.clf()\n",
    "    plt.title(title)\n",
    "    plt.xlabel(\"Epsiode\") \n",
    "    plt.ylabel(\"Total Reward\")\n",
    "    plt.plot(all_rewards, '--', alpha=0.5) \n",
    "    plt.plot(smoothed_rewards) \n",
    "    plt.legend([\"Rewards\", \"Rewards (Smoothed)\"]) \n",
    "    plt.pause(0.0001)\n",
    "   # display.clear_output(wait=True)"
   ]
  },
  {
   "cell_type": "code",
   "execution_count": null,
   "metadata": {},
   "outputs": [],
   "source": [
    "# Let's import basic tools for defining the function and doing the gradient-based learning\n",
    "import sklearn.pipeline\n",
    "import sklearn.preprocessing\n",
    "#from sklearn.preprocessing import PolynomialFeatures # you can try with polynomial basis if you want (It is difficult!)\n",
    "from sklearn.linear_model import SGDRegressor # this defines the SGD function\n",
    "from sklearn.kernel_approximation import RBFSampler # this is the RBF function transformation method\n",
    "import pandas as pd\n",
    "#import display, HTML\n",
    "from IPython import display\n",
    "\n",
    "\n",
    "def smooth_plot(all_rewards, smoothed_rewards,title): \n",
    "    plt.figure(2, figsize=(12, 6))\n",
    "    plt.clf()\n",
    "    plt.title(title)\n",
    "    plt.xlabel(\"Epsiode\") \n",
    "    plt.ylabel(\"Total Reward\")\n",
    "    plt.plot(all_rewards, '--', alpha=0.5) \n",
    "    plt.plot(smoothed_rewards) \n",
    "    plt.legend([\"Rewards\", \"Rewards (Smoothed)\"]) \n",
    "    plt.pause(0.0001)\n",
    "   # display.clear_output(wait=True)"
   ]
  },
  {
   "cell_type": "code",
   "execution_count": null,
   "metadata": {},
   "outputs": [],
   "source": [
    "from LinearAprxAgent import LinearAprxAgent"
   ]
  },
  {
   "cell_type": "markdown",
   "metadata": {},
   "source": [
    "### Training"
   ]
  },
  {
   "cell_type": "code",
   "execution_count": null,
   "metadata": {},
   "outputs": [],
   "source": [
    "from plot_helper import plot"
   ]
  },
  {
   "cell_type": "code",
   "execution_count": null,
   "metadata": {
    "scrolled": true
   },
   "outputs": [],
   "source": [
    "%cd\n",
    "%cd linear_aprx_output\n",
    "%pwd\n",
    "\n",
    "#train on each on problem id\n",
    "for i in range(0,10):\n",
    "    env = virl.Epidemic(stochastic=False, noisy=False,problem_id=i)\n",
    "    agent = LinearAprxAgent(env)\n",
    "\n",
    "    title = \"Train: problem id \" + str(i) + \" \"\n",
    "    print(title)\n",
    "    \n",
    "    states,all_rewards, all_total_rewards,func_approximator, state_transformed, q_value = agent.train()\n",
    "    intercept = func_approximator.intercept_\n",
    "    coeff = func_approximator.coef_\n",
    "\n",
    "    #save for evaluation\n",
    "    np.savetxt(\"interceptP\" + str(i) + \".csv\", intercept, delimiter=\",\")\n",
    "    np.savetxt(\"coeffP\" + str(i) + \".csv\", coeff, delimiter=\",\")\n",
    "    np.savetxt(\"state_transformedP\" + str(i) + \".csv\", state_transformed, delimiter=\",\")\n",
    "    np.savetxt(\"q_valueP\" + str(i) + \".csv\", q_value, delimiter=\",\")\n",
    "    np.savetxt(\"lastRewardP\" + str(i) + \".csv\", all_rewards[-1], delimiter=\",\")\n",
    "    \n",
    "    \n"
   ]
  },
  {
   "cell_type": "code",
   "execution_count": null,
   "metadata": {},
   "outputs": [],
   "source": [
    "%cd\n",
    "%cd linear_aprx_output\n",
    "%pwd\n",
    "\n",
    "stochastic_noisy = {0:virl.Epidemic(stochastic=False, noisy=False),1:virl.Epidemic(stochastic=True, noisy=False),2:virl.Epidemic(stochastic=False, noisy=True),3:virl.Epidemic(stochastic=True, noisy=True)}\n",
    "stochastic_noisy_print = {0:\"stochastic=False, noisy=False\",1:\"stochastic=True, noisy=False\",2:\"stochastic=False, noisy=True\",3:\"stochastic=True, noisy=True\"}\n",
    "\n",
    "for i in range(0,4):\n",
    "    \n",
    "    env = stochastic_noisy[i]\n",
    "    print(stochastic_noisy_print[i])\n",
    "    agent = LinearAprxAgent(env)\n",
    "    \n",
    "    states,all_rewards, all_total_rewards,func_approximator, state_transformed, q_value = agent.train()\n",
    "    intercept = func_approximator.intercept_\n",
    "    coeff = func_approximator.coef_\n",
    "\n",
    "    #save for evaluation\n",
    "    np.savetxt(\"interceptS\" + str(i) + \".csv\", intercept, delimiter=\",\")\n",
    "    np.savetxt(\"coeffS\" + str(i) + \".csv\", coeff, delimiter=\",\")\n",
    "    np.savetxt(\"state_transformedS\" + str(i) + \".csv\", state_transformed, delimiter=\",\")\n",
    "    np.savetxt(\"q_valueS\" + str(i) + \".csv\", q_value, delimiter=\",\")\n",
    "    np.savetxt(\"lastRewardP\" + str(i) + \".csv\", all_rewards[-1], delimiter=\",\")\n",
    "\n"
   ]
  },
  {
   "cell_type": "code",
   "execution_count": null,
   "metadata": {},
   "outputs": [],
   "source": [
    "total_reward_sd = np.std(all_total_rewards)\n",
    "total_reward_mean = np.mean(all_total_rewards)\n",
    "reward_sd = np.std(all_rewards)\n",
    "reward_mean = np.mean(all_rewards)\n",
    "\n",
    "print(\"Total reward standard deviation = \" + str(total_reward_sd))\n",
    "print(\"Total reward mean = \" + str(total_reward_mean))\n",
    "print(\"Reward standard deviation = \" + str(reward_sd))\n",
    "print(\"Total reward mean = \" + str(reward_mean))"
   ]
  },
  {
   "cell_type": "code",
   "execution_count": null,
   "metadata": {},
   "outputs": [],
   "source": []
  },
  {
   "cell_type": "code",
   "execution_count": null,
   "metadata": {},
   "outputs": [],
   "source": [
    "\n"
   ]
  }
 ],
 "metadata": {
  "kernelspec": {
   "display_name": "Python 3",
   "language": "python",
   "name": "python3"
  },
  "language_info": {
   "codemirror_mode": {
    "name": "ipython",
    "version": 3
   },
   "file_extension": ".py",
   "mimetype": "text/x-python",
   "name": "python",
   "nbconvert_exporter": "python",
   "pygments_lexer": "ipython3",
   "version": "3.7.1"
  }
 },
 "nbformat": 4,
 "nbformat_minor": 2
}
