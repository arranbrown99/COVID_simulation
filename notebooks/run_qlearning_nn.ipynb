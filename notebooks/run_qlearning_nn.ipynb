{
 "cells": [
  {
   "cell_type": "markdown",
   "metadata": {},
   "source": [
    "## Setup"
   ]
  },
  {
   "cell_type": "code",
   "execution_count": 1,
   "metadata": {},
   "outputs": [
    {
     "data": {
      "text/html": [
       "<style>.container { width:100% !important; }</style>"
      ],
      "text/plain": [
       "<IPython.core.display.HTML object>"
      ]
     },
     "metadata": {},
     "output_type": "display_data"
    }
   ],
   "source": [
    "# use full window width\n",
    "from IPython.core.display import display, HTML\n",
    "display(HTML(\"<style>.container { width:100% !important; }</style>\"))\n",
    "\n",
    "import os\n",
    "import numpy as np\n",
    "os.chdir('..')\n",
    "import virl\n",
    "from matplotlib import pyplot as plt\n",
    "from collections import deque, namedtuple\n",
    "import random"
   ]
  },
  {
   "cell_type": "code",
   "execution_count": 2,
   "metadata": {},
   "outputs": [],
   "source": [
    "# Keras and backend for neural networks\n",
    "import keras\n",
    "from keras.models import Sequential\n",
    "from keras.layers import Dense\n",
    "from keras.optimizers import Adam\n",
    "from keras import backend as K\n",
    "\n",
    "import tensorflow as tf\n",
    "from tensorflow.keras.layers import Input\n",
    "from tensorflow.keras.models import clone_model"
   ]
  },
  {
   "cell_type": "markdown",
   "metadata": {},
   "source": [
    "## Agent Implementation"
   ]
  },
  {
   "cell_type": "code",
   "execution_count": 3,
   "metadata": {
    "scrolled": false
   },
   "outputs": [],
   "source": [
    "class NNFunctionApproximatorJointKeras():\n",
    "    \"\"\" A basic MLP neural network approximator and estimator using Keras     \n",
    "    \"\"\"\n",
    "    \n",
    "    def __init__(self, alpha, d_states, n_actions, nn_config, verbose=False):        \n",
    "        self.alpha = alpha \n",
    "        self.nn_config = nn_config      # determines the size of the hidden layer (if any)             \n",
    "        self.n_actions = n_actions        \n",
    "        self.d_states = d_states\n",
    "        self.verbose=verbose # Print debug information        \n",
    "        self.n_layers = len(nn_config)\n",
    "        self.model = self._build_model()  \n",
    "                        \n",
    "    def _huber_loss(self,y_true, y_pred, clip_delta=1.0):\n",
    "        \"\"\"\n",
    "        Huber loss (for use in Keras), see https://en.wikipedia.org/wiki/Huber_loss\n",
    "        The huber loss tends to provide more robust learning in RL settings where there are \n",
    "        often \"outliers\" before the functions has converged.\n",
    "        \"\"\"\n",
    "        error = y_true - y_pred\n",
    "        cond  = K.abs(error) <= clip_delta\n",
    "        squared_loss = 0.5 * K.square(error)\n",
    "        quadratic_loss = 0.5 * K.square(clip_delta) + clip_delta * (K.abs(error) - clip_delta)\n",
    "        return K.mean(tf.where(cond, squared_loss, quadratic_loss))\n",
    "\n",
    "    def _build_model(self):\n",
    "        # Neural Net for Deep-Q learning \n",
    "        model = Sequential()\n",
    "        for ilayer in self.nn_config:\n",
    "            model.add(Dense(ilayer, input_dim=self.d_states, activation='relu'))        \n",
    "        model.add(Dense(self.n_actions, activation='linear'))\n",
    "        model.compile(loss=self._huber_loss, # define a special loss function\n",
    "                      optimizer=Adam(lr=self.alpha, clipnorm=10.)) # specify the optimiser, we clip the gradient of the norm which can make traning more robust\n",
    "        return model\n",
    "\n",
    "    def predict(self, s, a=None):              \n",
    "        if a==None:            \n",
    "            return self._predict_nn(s)\n",
    "        else:                        \n",
    "            return self._predict_nn(s)[a]\n",
    "        \n",
    "    def _predict_nn(self,state_hat):                          \n",
    "        \"\"\"\n",
    "        Predict the output of the neural netwwork (note: these can be vectors)\n",
    "        \"\"\"                \n",
    "        x = self.model.predict(state_hat)                                                    \n",
    "        return x\n",
    "  \n",
    "    def update(self, states, td_target):\n",
    "        self.model.fit(states, td_target, epochs=1, verbose=0) # take one gradient step usign Adam               \n",
    "        return\n"
   ]
  },
  {
   "cell_type": "code",
   "execution_count": null,
   "metadata": {},
   "outputs": [
    {
     "name": "stdout",
     "output_type": "stream",
     "text": [
      "Episode = 0. Epsilon = 0.9974033122391917. Num Exploits = 0. Total Reward = -1.6735489421270489\n",
      "Best total reward has been updated to -1.6735489421270489, for episode 0\n",
      "Episode = 1. Epsilon = 0.99481336726571. Num Exploits = 0. Total Reward = -1.6236571279020733\n",
      "Best total reward has been updated to -1.6236571279020733, for episode 1\n",
      "Episode = 2. Epsilon = 0.992230147570642. Num Exploits = 0. Total Reward = -1.4853998204427141\n",
      "Best total reward has been updated to -1.4853998204427141, for episode 2\n",
      "Episode = 3. Epsilon = 0.9896536356905399. Num Exploits = 0. Total Reward = -2.0474492232313617\n",
      "Episode = 4. Epsilon = 0.987083814207303. Num Exploits = 0. Total Reward = -1.3939319402104162\n",
      "Best total reward has been updated to -1.3939319402104162, for episode 4\n",
      "Episode = 5. Epsilon = 0.9845206657480585. Num Exploits = 0. Total Reward = -1.97064252482292\n",
      "Episode = 6. Epsilon = 0.9819641729850472. Num Exploits = 0. Total Reward = -1.5074120396267308\n",
      "Episode = 7. Epsilon = 0.9794143186355041. Num Exploits = 0. Total Reward = -1.436544414111172\n",
      "Episode = 8. Epsilon = 0.9768710854615427. Num Exploits = 0. Total Reward = -1.7199935621730535\n",
      "Episode = 9. Epsilon = 0.9743344562700368. Num Exploits = 0. Total Reward = -1.5505125340864463\n",
      "Episode = 10. Epsilon = 0.9718044139125065. Num Exploits = 0. Total Reward = -1.6125384060925092\n",
      "Episode = 11. Epsilon = 0.9692809412850001. Num Exploits = 0. Total Reward = -1.5790268473403197\n",
      "Episode = 12. Epsilon = 0.9667640213279806. Num Exploits = 0. Total Reward = -1.32404108771584\n",
      "Best total reward has been updated to -1.32404108771584, for episode 12\n",
      "Episode = 13. Epsilon = 0.9642536370262079. Num Exploits = 0. Total Reward = -1.4770599312018877\n",
      "Episode = 14. Epsilon = 0.961749771408627. Num Exploits = 0. Total Reward = -1.3024249183119023\n",
      "Best total reward has been updated to -1.3024249183119023, for episode 14\n",
      "Episode = 15. Epsilon = 0.9592524075482504. Num Exploits = 0. Total Reward = -1.8962394611241424\n",
      "Episode = 16. Epsilon = 0.9567615285620438. Num Exploits = 0. Total Reward = -1.721713812819788\n",
      "Episode = 17. Epsilon = 0.9542771176108144. Num Exploits = 0. Total Reward = -1.760025102644368\n",
      "Episode = 18. Epsilon = 0.9517991578990944. Num Exploits = 0. Total Reward = -1.2200264500083986\n",
      "Best total reward has been updated to -1.2200264500083986, for episode 18\n",
      "Episode = 19. Epsilon = 0.9493276326750302. Num Exploits = 0. Total Reward = -1.627857850191918\n",
      "Episode = 20. Epsilon = 0.9468625252302657. Num Exploits = 0. Total Reward = -1.9921187469185382\n",
      "Episode = 21. Epsilon = 0.944403818899832. Num Exploits = 0. Total Reward = -1.3836445058362195\n",
      "Episode = 22. Epsilon = 0.9419514970620341. Num Exploits = 0. Total Reward = -2.121425846679166\n",
      "Episode = 23. Epsilon = 0.9395055431383377. Num Exploits = 0. Total Reward = -1.7741812171374145\n",
      "Episode = 24. Epsilon = 0.9370659405932589. Num Exploits = 0. Total Reward = -1.3394995398180656\n",
      "Episode = 25. Epsilon = 0.9346326729342495. Num Exploits = 0. Total Reward = -1.7085539697803935\n",
      "Episode = 26. Epsilon = 0.9322057237115894. Num Exploits = 0. Total Reward = -1.7153150578398484\n",
      "Episode = 27. Epsilon = 0.9297850765182719. Num Exploits = 0. Total Reward = -2.0547514380150456\n",
      "Episode = 28. Epsilon = 0.9273707149898941. Num Exploits = 0. Total Reward = -1.2534382944563276\n",
      "Episode = 29. Epsilon = 0.9249626228045478. Num Exploits = 0. Total Reward = -1.7507409901656874\n",
      "Episode = 30. Epsilon = 0.9225607836827059. Num Exploits = 0. Total Reward = -1.7837853477136794\n",
      "Episode = 31. Epsilon = 0.920165181387115. Num Exploits = 0. Total Reward = -1.8289584628004156\n"
     ]
    }
   ],
   "source": [
    "Transition = namedtuple('Transition',\n",
    "                        ('state', 'action', 'new_state', 'reward'))\n",
    "\n",
    "class ReplayMemory():\n",
    "    \"\"\"\n",
    "    Implement a replay buffer using the deque collection\n",
    "    \"\"\"\n",
    "\n",
    "    def __init__(self, capacity):\n",
    "        self.capacity = capacity\n",
    "        self.memory = deque(maxlen=capacity)               \n",
    "\n",
    "    def push(self, *args):\n",
    "        \"\"\"Saves a transition.\"\"\"\n",
    "        self.memory.append(Transition(*args))\n",
    "\n",
    "    def pop(self):\n",
    "        return self.memory.pop()\n",
    "\n",
    "    def sample(self, batch_size):\n",
    "        return random.sample(self.memory, batch_size)   \n",
    "\n",
    "    def __len__(self):\n",
    "        return len(self.memory)\n",
    "\n",
    "    \n",
    "\n",
    "BATCH_SIZE  = 64     # number of samples in a batch\n",
    "REPLAY_MEMORY_SIZE = 1500   # size of the replay buffer\n",
    "\n",
    "def qlearning_nn(env):\n",
    "    memory = ReplayMemory(REPLAY_MEMORY_SIZE)\n",
    "    n_actions = env.action_space.n\n",
    "    d_states = env.observation_space.shape[0]\n",
    "    alpha= 0.001          # learning rate/stepsize, 0.001 seems to be a good choice\n",
    "    nn_config   = [24,24] # size of the hidden layers in the MLP [24,24 seems to be a good choice]\n",
    "    num_episodes = 50\n",
    "    epsilon = 1\n",
    "    epsilon_decay = 0.99995\n",
    "    discount_factor = 0.95\n",
    "    \n",
    "    # Init the two networks\n",
    "    policy_network = NNFunctionApproximatorJointKeras(alpha, d_states, n_actions, nn_config)\n",
    "    target_network = NNFunctionApproximatorJointKeras(alpha, d_states, n_actions, nn_config)\n",
    "    target_network.model.set_weights(policy_network.model.get_weights())\n",
    "    \n",
    "    best_total_reward = -20\n",
    "    all_rewards = []\n",
    "    for episode in range(num_episodes):\n",
    "        rewards = []\n",
    "        \n",
    "        state = env.reset()\n",
    "        state = np.reshape(state, [1, d_states])\n",
    "        exploits = 0\n",
    "        done = False\n",
    "        while not done:\n",
    "            random_number = np.random.random()\n",
    "            if random_number < epsilon and episode < (num_episodes-5):\n",
    "                #explore\n",
    "                action = np.random.choice(n_actions)\n",
    "            else:\n",
    "                #exploit\n",
    "                exploits += 1\n",
    "                action = policy_network.predict(state)[0]\n",
    "                action = np.argmax(action)\n",
    "\n",
    "            new_state, reward, done, i = env.step(action=action)\n",
    "            new_state = np.reshape(new_state, [1, d_states])\n",
    "            rewards.append(reward)\n",
    "            \n",
    "            memory.push(state, action, new_state, reward)\n",
    "            \n",
    "            if len(memory) >= BATCH_SIZE:                         \n",
    "                # Fetch a batch from the replay buffer and extract as numpy arrays \n",
    "                transitions = memory.sample(BATCH_SIZE)            \n",
    "                batch = Transition(*zip(*transitions))                                \n",
    "                train_rewards = np.array(batch.reward)\n",
    "                train_states = np.array(batch.state)\n",
    "                train_new_state = np.array(batch.new_state)\n",
    "                train_actions = np.array(batch.action)\n",
    "                \n",
    "                q_values_for_current_state = policy_network.predict(train_states.reshape(BATCH_SIZE,d_states)) # predict current values for the given states\n",
    "                q_values_for_new_state     = target_network.predict(train_new_state.reshape(BATCH_SIZE,d_states))                    \n",
    "                q_values_for_current_state_tmp = train_rewards + discount_factor * np.amax(q_values_for_new_state,axis=1)                \n",
    "                q_values_for_current_state[ (np.arange(BATCH_SIZE), train_actions.reshape(BATCH_SIZE,).astype(int))] = q_values_for_current_state_tmp                                                                              \n",
    "                policy_network.update(train_states.reshape(BATCH_SIZE,d_states), q_values_for_current_state) # Update the function approximator \n",
    "       \n",
    "            state = new_state\n",
    "            epsilon *= epsilon_decay\n",
    "        \n",
    "            if done:\n",
    "                target_network.model.set_weights(policy_network.model.get_weights())\n",
    "                total_reward = np.sum(rewards)\n",
    "                all_rewards.append(total_reward)\n",
    "                print(\"Episode = \" + str(episode) + \". Epsilon = \" + str(epsilon) + \". Num Exploits = \" + str(exploits) + \". Total Reward = \" + str(total_reward))\n",
    "                \n",
    "                if total_reward > best_total_reward:\n",
    "                    best_total_reward = total_reward\n",
    "                    print(\"Best total reward has been updated to \" + str(best_total_reward) + \", for episode \" + str(episode))\n",
    "                    \n",
    "    return all_rewards\n",
    "    \n",
    "env = virl.Epidemic(stochastic=False, noisy=False)\n",
    "r = qlearning_nn(env) "
   ]
  },
  {
   "cell_type": "code",
   "execution_count": 13,
   "metadata": {},
   "outputs": [
    {
     "data": {
      "text/plain": [
       "Text(0, 0.5, 'Total Rewards')"
      ]
     },
     "execution_count": 13,
     "metadata": {},
     "output_type": "execute_result"
    },
    {
     "data": {
      "image/png": "[encoded data removed]",
      "text/plain": [
       "<Figure size 432x288 with 1 Axes>"
      ]
     },
     "metadata": {
      "needs_background": "light"
     },
     "output_type": "display_data"
    }
   ],
   "source": [
    "plt.plot(r)\n",
    "plt.xlabel(\"Episodes\")\n",
    "plt.ylabel(\"Total Rewards\")"
   ]
  }
 ],
 "metadata": {
  "celltoolbar": "Raw Cell Format",
  "kernelspec": {
   "display_name": "Python 3",
   "language": "python",
   "name": "python3"
  },
  "language_info": {
   "codemirror_mode": {
    "name": "ipython",
    "version": 3
   },
   "file_extension": ".py",
   "mimetype": "text/x-python",
   "name": "python",
   "nbconvert_exporter": "python",
   "pygments_lexer": "ipython3",
   "version": "3.7.6"
  },
  "toc": {
   "base_numbering": 1,
   "nav_menu": {},
   "number_sections": true,
   "sideBar": true,
   "skip_h1_title": false,
   "title_cell": "Table of Contents",
   "title_sidebar": "Contents",
   "toc_cell": false,
   "toc_position": {},
   "toc_section_display": true,
   "toc_window_display": false
  }
 },
 "nbformat": 4,
 "nbformat_minor": 2
}
