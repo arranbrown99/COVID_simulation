{
 "cells": [
  {
   "cell_type": "markdown",
   "metadata": {},
   "source": [
    "## Setup"
   ]
  },
  {
   "cell_type": "code",
   "execution_count": 1,
   "metadata": {},
   "outputs": [
    {
     "data": {
      "text/html": [
       "<style>.container { width:100% !important; }</style>"
      ],
      "text/plain": [
       "<IPython.core.display.HTML object>"
      ]
     },
     "metadata": {},
     "output_type": "display_data"
    }
   ],
   "source": [
    "# use full window width\n",
    "from IPython.core.display import display, HTML\n",
    "display(HTML(\"<style>.container { width:100% !important; }</style>\"))\n",
    "\n",
    "import os\n",
    "os.chdir('..')\n",
    "import virl\n",
    "\n",
    "from IPython import display"
   ]
  },
  {
   "cell_type": "code",
   "execution_count": 2,
   "metadata": {},
   "outputs": [
    {
     "name": "stderr",
     "output_type": "stream",
     "text": [
      "Using TensorFlow backend.\n"
     ]
    }
   ],
   "source": [
    "from q_learning_nn.nn_function_approximator import NNFunctionApproximatorJointKeras, init_networks, load_trained_network\n",
    "from q_learning_nn.memory import ReplayMemory, Transition\n",
    "from q_learning_nn.agent import Agent\n",
    "from q_learning_nn.strategy import Strategy\n",
    "from q_learning_nn.run import qlearning_nn"
   ]
  },
  {
   "cell_type": "markdown",
   "metadata": {},
   "source": []
  },
  {
   "cell_type": "markdown",
   "metadata": {},
   "source": [
    "# Training"
   ]
  },
  {
   "cell_type": "code",
   "execution_count": 3,
   "metadata": {
    "scrolled": false
   },
   "outputs": [
    {
     "name": "stdout",
     "output_type": "stream",
     "text": [
      "Saved to /Users/mohammadmajid/Documents/ai\n"
     ]
    }
   ],
   "source": [
    "PROBLEM_ID = 2\n",
    "episodes = 2000\n",
    "epsilon_decay = 0.999985\n",
    "window_size = 100\n",
    "\n",
    "env = virl.Epidemic(stochastic=False, noisy=False, problem_id=PROBLEM_ID)\n",
    "agent = Agent(env, learning_rate=0.002)\n",
    "memory = ReplayMemory(size=2080, batch_size=208)  # only actually gets the best 104 samples from 208\n",
    "\n",
    "strategy = Strategy(epsilon=1, epsilon_decay=epsilon_decay)\n",
    "policy_network, target_network = init_networks(agent.get_num_states(), agent.get_num_actions(), agent.learning_rate)\n",
    "\n",
    "rewards = qlearning_nn(\n",
    "    agent=agent, \n",
    "    policy_network=policy_network,\n",
    "    target_network=target_network,\n",
    "    num_episodes=episodes,\n",
    "    window_size=window_size, \n",
    "    strategy=strategy,\n",
    "    memory=memory\n",
    ")\n",
    "\n",
    "# SAVE TO FILE\n",
    "policy_network.model.save_weights(\"policy_network_problem_id_\" + str(PROBLEM_ID) + \".h5\")\n",
    "print(\"Saved to \" + str(os.getcwd()))"
   ]
  }
 ],
 "metadata": {
  "celltoolbar": "Raw Cell Format",
  "kernelspec": {
   "display_name": "Python 3",
   "language": "python",
   "name": "python3"
  },
  "language_info": {
   "codemirror_mode": {
    "name": "ipython",
    "version": 3
   },
   "file_extension": ".py",
   "mimetype": "text/x-python",
   "name": "python",
   "nbconvert_exporter": "python",
   "pygments_lexer": "ipython3",
   "version": "3.7.9"
  },
  "toc": {
   "base_numbering": 1,
   "nav_menu": {},
   "number_sections": true,
   "sideBar": true,
   "skip_h1_title": false,
   "title_cell": "Table of Contents",
   "title_sidebar": "Contents",
   "toc_cell": false,
   "toc_position": {},
   "toc_section_display": true,
   "toc_window_display": false
  }
 },
 "nbformat": 4,
 "nbformat_minor": 2
}
