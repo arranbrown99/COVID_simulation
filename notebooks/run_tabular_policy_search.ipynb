{
 "cells": [
  {
   "cell_type": "code",
   "execution_count": 1,
   "metadata": {},
   "outputs": [
    {
     "data": {
      "text/html": [
       "<style>.container { width:100% !important; }</style>"
      ],
      "text/plain": [
       "<IPython.core.display.HTML object>"
      ]
     },
     "metadata": {},
     "output_type": "display_data"
    }
   ],
   "source": [
    "# use full window width\n",
    "from IPython.core.display import display, HTML\n",
    "display(HTML(\"<style>.container { width:100% !important; }</style>\"))\n",
    "\n",
    "import os\n",
    "import numpy as np\n",
    "\n",
    "def get_current_dir():\n",
    "    return os.getcwd().split(\"/\")[-1]\n",
    "\n",
    "def in_project_root_directory():\n",
    "    return get_current_dir() == \"ai-coursework-group6\"\n",
    "\n",
    "if not in_project_root_directory():\n",
    "    os.chdir('..')\n",
    "\n",
    "import virl\n",
    "from matplotlib import pyplot as plt"
   ]
  },
  {
   "cell_type": "code",
   "execution_count": 2,
   "metadata": {},
   "outputs": [],
   "source": [
    "from Tabular_Policy_Agent import Tabular_Policy_Agent"
   ]
  },
  {
   "cell_type": "code",
   "execution_count": 3,
   "metadata": {},
   "outputs": [],
   "source": [
    "from plot_helper import plot"
   ]
  },
  {
   "cell_type": "code",
   "execution_count": null,
   "metadata": {},
   "outputs": [
    {
     "name": "stdout",
     "output_type": "stream",
     "text": [
      "C:\\Users\\chozo\\ai-coursework-group6\n",
      "---\n",
      "Problem id: 0\n",
      "\n",
      "C:\\Users\\chozo\\ai-coursework-group6\n",
      "Saved to file trained_agents/tabular_policy/tabular_problem_id_0.txt successfully!\n",
      "---\n",
      "Problem id: 1\n",
      "\n",
      "C:\\Users\\chozo\\ai-coursework-group6\n",
      "Saved to file trained_agents/tabular_policy/tabular_problem_id_1.txt successfully!\n",
      "---\n",
      "Problem id: 2\n",
      "\n"
     ]
    }
   ],
   "source": [
    "#train on the the problem id\n",
    "\n",
    "print(get_current_dir())\n",
    "for i in range(0,10):\n",
    "    print(\"---\")\n",
    "    print(\"Problem id: \" + str(i))\n",
    "    print()\n",
    "    \n",
    "    filename = \"trained_agents/tabular_policy/tabular_problem_id_\" + str(i) + \".txt\"    \n",
    "    \n",
    "    env = virl.Epidemic(stochastic=False, noisy=False,problem_id=i)\n",
    "    agent = Tabular_Policy_Agent(env)\n",
    "    states,all_rewards, all_total_rewards = agent.train()\n",
    "    \n",
    "    #write to file\n",
    "    print(get_current_dir())\n",
    "    if agent.save_raw_table_to_file(filename):\n",
    "        print(\"Saved to file \" + filename + \" successfully!\")\n",
    "    \n"
   ]
  },
  {
   "cell_type": "code",
   "execution_count": null,
   "metadata": {},
   "outputs": [],
   "source": [
    "total_reward_sd = np.std(all_total_rewards)\n",
    "total_reward_mean = np.mean(all_total_rewards)\n",
    "reward_sd = np.std(all_rewards)\n",
    "reward_mean = np.mean(all_rewards)\n",
    "\n",
    "print(\"Total reward standard deviation = \" + str(total_reward_sd))\n",
    "print(\"Total reward mean = \" + str(total_reward_mean))\n",
    "print(\"Reward standard deviation = \" + str(reward_sd))\n",
    "print(\"Reward mean = \" + str(reward_mean))"
   ]
  }
 ],
 "metadata": {
  "kernelspec": {
   "display_name": "Python 3",
   "language": "python",
   "name": "python3"
  },
  "language_info": {
   "codemirror_mode": {
    "name": "ipython",
    "version": 3
   },
   "file_extension": ".py",
   "mimetype": "text/x-python",
   "name": "python",
   "nbconvert_exporter": "python",
   "pygments_lexer": "ipython3",
   "version": "3.7.1"
  }
 },
 "nbformat": 4,
 "nbformat_minor": 2
}
